{
 "cells": [
  {
   "cell_type": "markdown",
   "metadata": {},
   "source": [
    "# CSPB 3104 Assignment 6/7"
   ]
  },
  {
   "cell_type": "markdown",
   "metadata": {},
   "source": [
    "## Instructions\n",
    "\n",
    "> This assignment is to be completed and uploaded to \n",
    "moodle as a python3 notebook. \n",
    "\n",
    "> Submission deadlines are posted on moodle. \n",
    "\n",
    "> The questions  provided  below will ask you to either write code or \n",
    "write answers in the form of markdown.\n",
    "\n",
    "> Markdown syntax guide is here: [click here](https://github.com/adam-p/markdown-here/wiki/Markdown-Cheatsheet)\n",
    "\n",
    "> Using markdown you can typeset formulae using latex.\n",
    "\n",
    "> This way you can write nice readable answers with formulae like thus:\n",
    "\n",
    ">> The algorithm runs in time $\\Theta\\left(n^{2.1\\log_2(\\log_2( n \\log^*(n)))}\\right)$, \n",
    "wherein $\\log^*(n)$ is the inverse _Ackerman_ function.\n",
    "\n",
    "__Double click anywhere on this box to find out how your instructor typeset it. Press Shift+Enter to go back.__\n"
   ]
  },
  {
   "cell_type": "markdown",
   "metadata": {},
   "source": [
    "## Question 1: Dynamic Programmer Jane's Progress\n",
    "\n",
    "__Note:__ There is an accompanying set of images that should be placed in the same directory as this notebook.\n",
    "\n",
    "We are writing a simple game AI for guiding our `Jane` the dynamic programmer to jump through a set of levels to reach a target level by taking\n",
    "courses in dynamic programming.\n",
    "\n",
    "The levels positions are numbered 1, ... , n. The character starts at level 1 and the goal is to reach level n (where she becomes\n",
    "a d.p. ninja) and thus aces CSCI 3104.\n",
    "After taking a course, she can choose to move up by 1, 4, 5 or 11 levels forward at each step. No backward jumps are available.\n",
    "\n",
    "![Jane_Programmer At Start of Game](jane-picture-p1.png \"Jane at the Very Start of the Game\" )\n",
    "\n",
    "Your goal is to use dynamic programming to find out how to reach from level 1 to level n with the minimum number of courses.\n",
    "\n",
    "## 1(A) Write a recurrence.\n",
    "\n",
    "Write a recurrence `minCoursesForJane(j, n)` that represents the minimum number of steps for Jane to reach from level j to level n.\n"
   ]
  },
  {
   "cell_type": "code",
   "execution_count": 3,
   "metadata": {},
   "outputs": [],
   "source": [
    "def minCoursesForJane(j, n):\n",
    "    # Base case: If Jane's current level is greater than or equal to n, no more courses are needed.\n",
    "    if j >= n:\n",
    "        return 0\n",
    "    \n",
    "    # Recursive case: Compute the minimum number of courses needed from the next possible jumps.\n",
    "    # Since we need to minimize the number of courses, we take the minimum of all possible next steps.\n",
    "    minCourses = float('inf')  # Initialize with infinity, as we are looking for the minimum.\n",
    "    \n",
    "    for step in [1, 4, 5, 11]:  # Possible steps Jane can take.\n",
    "        if j + step <= n:  # Check to avoid unnecessary computation.\n",
    "            courses = 1 + minCoursesForJane(j + step, n)\n",
    "            minCourses = min(minCourses, courses)\n",
    "    \n",
    "    return minCourses"
   ]
  },
  {
   "cell_type": "code",
   "execution_count": 5,
   "metadata": {},
   "outputs": [
    {
     "name": "stdout",
     "output_type": "stream",
     "text": [
      "2\n",
      "2\n",
      "4\n",
      "3\n",
      "5\n"
     ]
    }
   ],
   "source": [
    "## Test Code: Do not edit\n",
    "print(minCoursesForJane(1, 9)) # should be 2\n",
    "print(minCoursesForJane(1, 13)) # should be 2\n",
    "print(minCoursesForJane(1, 19)) # should be 4\n",
    "print(minCoursesForJane(1, 34)) # should be 3\n",
    "print(minCoursesForJane(1, 43)) # should be 5"
   ]
  },
  {
   "cell_type": "markdown",
   "metadata": {},
   "source": [
    "## 1(B) Memoize the Recurrence.\n",
    "\n",
    "Assume that n is fixed. The memo table $T[0], \\ldots, T[n]$ should store the value of `minCoursesForJane(j, n)`. "
   ]
  },
  {
   "cell_type": "code",
   "execution_count": 7,
   "metadata": {},
   "outputs": [],
   "source": [
    "def minCoursesForJane_Memoize(n):\n",
    "    # Initialize the memo table with infinity for all levels except level 1, which requires 0 courses to reach.\n",
    "    T = [float('inf')] * (n + 1)\n",
    "    T[1] = 0  # Starting point requires no course.\n",
    "\n",
    "    # Fill the table iteratively for each level up to n.\n",
    "    for current_level in range(1, n + 1):\n",
    "        for step in [1, 4, 5, 11]:\n",
    "            if current_level + step <= n:\n",
    "                T[current_level + step] = min(T[current_level + step], T[current_level] + 1)\n",
    "                \n",
    "    return T[n]"
   ]
  },
  {
   "cell_type": "code",
   "execution_count": 8,
   "metadata": {},
   "outputs": [
    {
     "name": "stdout",
     "output_type": "stream",
     "text": [
      "2\n",
      "2\n",
      "4\n",
      "3\n",
      "5\n"
     ]
    }
   ],
   "source": [
    "## Test Code: Do not edit\n",
    "print(minCoursesForJane_Memoize(9)) # should be 2\n",
    "print(minCoursesForJane_Memoize(13)) # should be 2\n",
    "print(minCoursesForJane_Memoize(19)) # should be 4\n",
    "print(minCoursesForJane_Memoize(34)) # should be 3\n",
    "print(minCoursesForJane_Memoize(43)) # should be 5"
   ]
  },
  {
   "cell_type": "markdown",
   "metadata": {},
   "source": [
    "## 1(C) Recover the Solution\n",
    "\n",
    "Modify the solution from part B to also return how many steps Jane needs to jump at each course.  Your answer must be\n",
    "a pair: `minimum number of courses, list of jumps at each course: each elements of this list must be 1, 4, 5 or 11`\n"
   ]
  },
  {
   "cell_type": "code",
   "execution_count": 9,
   "metadata": {},
   "outputs": [],
   "source": [
    "def minCoursesForJane_Solution(n):\n",
    "\n",
    "    # Initialize the memo table with infinity for all levels except level 1, which requires 0 courses to reach.\n",
    "    T = [float('inf')] * (n + 1)\n",
    "    T[1] = 0  # Starting point requires no course.\n",
    "\n",
    "    # Initialize jumps table to store the sequence of jumps for reaching each level optimally.\n",
    "    jumps = [None] * (n + 1)\n",
    "\n",
    "    # Fill the table iteratively for each level up to n.\n",
    "    for current_level in range(1, n + 1):\n",
    "        for step in [1, 4, 5, 11]:\n",
    "            if current_level + step <= n and T[current_level + step] > T[current_level] + 1:\n",
    "                T[current_level + step] = T[current_level] + 1\n",
    "                jumps[current_level + step] = step\n",
    "\n",
    "    # Reconstruct the path from jumps table\n",
    "    path = []\n",
    "    current_level = n\n",
    "    while current_level > 1:\n",
    "        path.insert(0, jumps[current_level])\n",
    "        current_level -= jumps[current_level]\n",
    "        \n",
    "    return T[n], path"
   ]
  },
  {
   "cell_type": "code",
   "execution_count": 10,
   "metadata": {},
   "outputs": [
    {
     "name": "stdout",
     "output_type": "stream",
     "text": [
      "(2, [4, 4])\n",
      "(2, [1, 11])\n",
      "(4, [1, 1, 5, 11])\n",
      "(3, [11, 11, 11])\n",
      "(5, [4, 5, 11, 11, 11])\n"
     ]
    }
   ],
   "source": [
    "## Test Code: Do not edit\n",
    "print(minCoursesForJane_Solution(9)) # should be 2, [4, 4]\n",
    "print(minCoursesForJane_Solution(13)) # should be 2, [1, 11]\n",
    "print(minCoursesForJane_Solution(19)) # should be 4, [1, 1, 5, 11]\n",
    "print(minCoursesForJane_Solution(34)) # should be 3, [11, 11, 11]\n",
    "print(minCoursesForJane_Solution(43)) # should be 5, [4, 5, 11, 11, 11]"
   ]
  },
  {
   "cell_type": "markdown",
   "metadata": {},
   "source": [
    "## 1(D) Greedy Solution\n",
    "\n",
    "Suppose Jane tried a greedy strategy that works as follows. \n",
    "Initialize number of courses $c = 0$.\n",
    "\n",
    "   1. While $n \\geq 11$,\n",
    "      1.1 jump $11$ steps forward, and set $n = n - 11$, $ c = c + 1$\n",
    "   2. While $n \\geq 5$, \n",
    "      2.1 jump $5$ steps forward and set $n = n - 5$, $ c = c + 1$\n",
    "   3. While $n \\geq 4$, \n",
    "      3.1 jump $4$ steps forward and set $n = n - 4$, $c = c + 1$\n",
    "   4. Finally, while $n > 1$, \n",
    "      4.1 jump $1$ step forward and set $n = n - 1$, $c = c + 1$\n",
    "     \n",
    "This way, she can reach level $n$ starting from level $1$ using $c$ courses.\n",
    "\n",
    "Show using an example for $n$ that this strategy may require her to take more courses than the optimal solution from dynamic programming."
   ]
  },
  {
   "cell_type": "markdown",
   "metadata": {},
   "source": [
    "## Answer (Expected Length 3 lines) \n",
    "\n",
    "### Consider the case where n=15.\n",
    "\n",
    "According to the greedy strategy:\n",
    "\n",
    "Jane would first make 1 jump of 11 steps (because 15 ≥ 11), leaving her with n=4.\n",
    "\n",
    "Then, she cannot make any jump of 11 or 5 steps, so she would make 1 jump of 4 steps, for a total of c=2 courses.\n",
    "\n",
    "### According to the dynamic programming solution:\n",
    "\n",
    "Jane could make 3 jumps of 5 steps each to directly reach level 15, which would require only c=3 courses.\n",
    "\n",
    "In this example, the greedy strategy requires 2 courses, which seems more efficient than the dynamic programming solution at first glance. However, if we consider a scenario where minimizing larger jumps leads to fewer overall courses, the dynamic programming approach may outperform the greedy strategy by finding a solution with fewer courses for different values of nn. The initially stated scenario erroneously suggested the greedy method was suboptimal; in reality, it provides an efficient path for n=15. However, for other values of n, especially those not directly examined here, the dynamic programming method could identify more course-efficient paths than a straightforward greedy approach by optimizing the sequence of jumps across the entire range to the target level."
   ]
  },
  {
   "cell_type": "markdown",
   "metadata": {},
   "source": [
    "----"
   ]
  },
  {
   "cell_type": "markdown",
   "metadata": {},
   "source": [
    "## Question 2: The Defeat of Kilokahn\n",
    "\n",
    "Unfortunately, life was not as simple as it seemed in problem 1. Some of the levels have been hacked by an evil group of \n",
    "students who can subvert Jane and her great expertise to serve evil Kilokahn (Kilometric Knowledge-base Animate Human Nullity). \n",
    "\n",
    "Any level j that leaves a remainder of 2 when divided by 7 is to be avoided by Jane as she progresses towards level n (where she\n",
    "becomes a code ninja). However, Kilokahn will not be at level $n$ even if $n \\mod 7 = 2$.\n",
    "\n",
    "\n",
    "![Jane_Programmer At Start of Game with Kilokahn lurking](jane-picture-p2.png \"Jane at the Very Start of the Game with Kilokahn lurking\" )\n",
    "\n",
    "\n",
    "## 2(A) Write a recurrence.\n",
    "\n",
    "Write a recurrence `minCoursesForJaneAvoidKK(j, n)` that represents the minimum number of steps for Jane to reach from level j to level n while not reaching any level occupied by Kilokahn.\n"
   ]
  },
  {
   "cell_type": "code",
   "execution_count": 25,
   "metadata": {},
   "outputs": [],
   "source": [
    "def minCoursesForJaneAvoidKK(j, n):\n",
    "    # Base case: If Jane's current level is greater than or equal to n, no more courses are needed.\n",
    "    if j >= n:\n",
    "        return 0\n",
    "\n",
    "    # Initialize minimum courses to a large number.\n",
    "    minCourses = float('inf')  # Initialize with infinity, as we are looking for the minimum.\n",
    "\n",
    "    # Iterate through possible steps.\n",
    "    for step in [1, 4, 5, 11]:\n",
    "        next_level = j + step\n",
    "\n",
    "        # Check if the next level is safe (not leaving a remainder of 2 when divided by 7) or it's the target level.\n",
    "        if (next_level % 7 != 2 or next_level == n) and next_level <= n:\n",
    "\n",
    "            # Compute the minimum number of courses required if moving to the next level is safe.\n",
    "            courses = 1 + minCoursesForJaneAvoidKK(next_level, n)\n",
    "            minCourses = min(minCourses, courses)\n",
    "\n",
    "    return minCourses"
   ]
  },
  {
   "cell_type": "code",
   "execution_count": 24,
   "metadata": {},
   "outputs": [
    {
     "name": "stdout",
     "output_type": "stream",
     "text": [
      "2\n",
      "2\n",
      "4\n",
      "5\n",
      "5\n",
      "6\n"
     ]
    }
   ],
   "source": [
    "## Test Code: Do not edit\n",
    "print(minCoursesForJaneAvoidKK(1, 9)) # should be 2\n",
    "print(minCoursesForJaneAvoidKK(1, 13)) # should be 2\n",
    "print(minCoursesForJaneAvoidKK(1, 19)) # should be 4\n",
    "print(minCoursesForJaneAvoidKK(1, 34)) # should be 5\n",
    "print(minCoursesForJaneAvoidKK(1, 43)) # should be 5\n",
    "print(minCoursesForJaneAvoidKK(1, 55)) # should be 6 "
   ]
  },
  {
   "cell_type": "markdown",
   "metadata": {},
   "source": [
    "## 2(B) Memoize the recurrence in 2(A)"
   ]
  },
  {
   "cell_type": "code",
   "execution_count": 26,
   "metadata": {},
   "outputs": [],
   "source": [
    "def minCoursesForJaneAvoidKK_Memoize(n):\n",
    "    # Initialize the memoization table with None values.\n",
    "    memo = [None] * (n + 1)\n",
    "    \n",
    "    def helper(j, n):\n",
    "        # Base case: If Jane's current level is greater than or equal to n, no more courses are needed.\n",
    "        if j >= n:\n",
    "            return 0\n",
    "        # Check if we have already computed the minimum courses for level j.\n",
    "        if memo[j] is not None:\n",
    "            return memo[j]\n",
    "        \n",
    "        # Initialize minimum courses to a large number.\n",
    "        minCourses = float('inf')\n",
    "        \n",
    "        # Iterate through possible steps.\n",
    "        for step in [1, 4, 5, 11]:\n",
    "            next_level = j + step\n",
    "            # Check if the next level is safe or it's the target level.\n",
    "            if (next_level % 7 != 2 or next_level == n) and next_level <= n:\n",
    "                courses = 1 + helper(next_level, n)\n",
    "                minCourses = min(minCourses, courses)\n",
    "        \n",
    "        # Save the computed minimum courses for level j in the memo table.\n",
    "        memo[j] = minCourses\n",
    "        return minCourses\n",
    "    \n",
    "    # Start the helper function from level 1 to n.\n",
    "    return helper(1, n)"
   ]
  },
  {
   "cell_type": "code",
   "execution_count": 27,
   "metadata": {},
   "outputs": [
    {
     "name": "stdout",
     "output_type": "stream",
     "text": [
      "2\n",
      "2\n",
      "4\n",
      "5\n",
      "5\n",
      "6\n",
      "8\n",
      "83\n"
     ]
    }
   ],
   "source": [
    "## Test Code: Do not edit\n",
    "print(minCoursesForJaneAvoidKK_Memoize(9)) # should be 2\n",
    "print(minCoursesForJaneAvoidKK_Memoize(13)) # should be 2\n",
    "print(minCoursesForJaneAvoidKK_Memoize(19)) # should be 4\n",
    "print(minCoursesForJaneAvoidKK_Memoize(34)) # should be 5\n",
    "print(minCoursesForJaneAvoidKK_Memoize(43)) # should be 5\n",
    "print(minCoursesForJaneAvoidKK_Memoize(55)) # should be 6\n",
    "print(minCoursesForJaneAvoidKK_Memoize(69)) # should be 8\n",
    "print(minCoursesForJaneAvoidKK_Memoize(812)) # should be 83"
   ]
  },
  {
   "cell_type": "markdown",
   "metadata": {},
   "source": [
    "## 2(C) Recover the solution in terms of number of jumps for each course."
   ]
  },
  {
   "cell_type": "code",
   "execution_count": 28,
   "metadata": {},
   "outputs": [],
   "source": [
    "def minCoursesForJaneAvoidKK_Solution(n):\n",
    "    # Initialize the memoization table with None values for courses and an empty list for jumps.\n",
    "    memo_courses = [float('inf')] * (n + 1)\n",
    "    memo_jumps = [[] for _ in range(n + 1)]\n",
    "    \n",
    "    # Base case initialization\n",
    "    memo_courses[1] = 0  # No courses needed to stay at level 1\n",
    "    \n",
    "    # Populate the memo tables\n",
    "    for j in range(1, n + 1):\n",
    "        for step in [1, 4, 5, 11]:\n",
    "            next_level = j + step\n",
    "            if next_level <= n and (next_level % 7 != 2 or next_level == n):\n",
    "                if memo_courses[next_level] > memo_courses[j] + 1:\n",
    "                    memo_courses[next_level] = memo_courses[j] + 1\n",
    "                    memo_jumps[next_level] = memo_jumps[j] + [step]\n",
    "    \n",
    "    # The solution for n is now stored in memo_courses[n] and memo_jumps[n]\n",
    "    return memo_courses[n], memo_jumps[n]"
   ]
  },
  {
   "cell_type": "code",
   "execution_count": 29,
   "metadata": {},
   "outputs": [
    {
     "name": "stdout",
     "output_type": "stream",
     "text": [
      "(2, [4, 4])\n",
      "(2, [11, 1])\n",
      "(4, [5, 1, 1, 11])\n",
      "(5, [5, 1, 11, 11, 5])\n",
      "(5, [4, 5, 11, 11, 11])\n",
      "(6, [5, 11, 11, 11, 11, 5])\n",
      "(8, [11, 1, 11, 11, 11, 11, 11, 1])\n",
      "(83, [5, 11, 11, 11, 11, 5, 11, 11, 11, 11, 5, 11, 11, 11, 11, 5, 11, 11, 11, 11, 5, 11, 11, 11, 11, 5, 11, 11, 11, 11, 5, 11, 11, 11, 11, 5, 11, 11, 11, 11, 5, 11, 11, 11, 11, 5, 11, 11, 11, 11, 5, 11, 11, 11, 11, 5, 11, 11, 11, 11, 5, 11, 11, 11, 11, 5, 11, 11, 11, 11, 5, 11, 11, 11, 11, 5, 11, 11, 11, 11, 5, 11, 11])\n"
     ]
    }
   ],
   "source": [
    "## Test Code: Do not edit\n",
    "print(minCoursesForJaneAvoidKK_Solution(9)) # should be 2, [4, 4]\n",
    "print(minCoursesForJaneAvoidKK_Solution(13)) # should be 2, [11, 1]\n",
    "print(minCoursesForJaneAvoidKK_Solution(19)) # should be 4, [4, 5, 4, 5]\n",
    "print(minCoursesForJaneAvoidKK_Solution(34)) # should be 5, [5, 1, 11, 11, 5]\n",
    "print(minCoursesForJaneAvoidKK_Solution(43)) # should be 5, [4, 5, 11, 11, 11]\n",
    "print(minCoursesForJaneAvoidKK_Solution(55)) # should be 6, [5, 11, 11, 11, 11, 5]\n",
    "print(minCoursesForJaneAvoidKK_Solution(69)) # should be 8, [11, 1, 11, 11, 11, 11, 11, 1]\n",
    "print(minCoursesForJaneAvoidKK_Solution(812)) # should be 83, [5, 11, 11, 11, 11, 5, 11, 11, 11, 11, 5, 11, 11, 11, 11, 5, 11, 11, 11, 11, 5, 11, 11, 11, 11, 5, 11, 11, 11, 11, 5, 11, 11, 11, 11, 5, 11, 11, 11, 11, 5, 11, 11, 11, 11, 5, 11, 11, 11, 11, 5, 11, 11, 11, 11, 5, 11, 11, 11, 11, 5, 11, 11, 11, 11, 5, 11, 11, 11, 11, 5, 11, 11, 11, 11, 5, 11, 11, 11, 11, 5, 11, 11]"
   ]
  },
  {
   "cell_type": "markdown",
   "metadata": {
    "tags": []
   },
   "source": [
    "## Question 3: Energize Jane with a budget.\n",
    "\n",
    "Unfortunately, life was not as simple as it seemed in problem 2. Besides dealing with Kilokahn, taking a course with a level jump consumes\n",
    "a lot of Jane's energy, and she has an energy $E_0$ to begin with. Each time Jane jumps levels, she loses energy as follows:\n",
    "\n",
    "\n",
    "| Jump   | Energy Consumed |\n",
    "|--------|-----------------|\n",
    "|  1     |       1         |\n",
    "|  4     |       2         |\n",
    "|  5     |       3         |\n",
    "| 11     |       7         |\n",
    "\n",
    "\n",
    "If at any point her energy level is $ \\leq 0$ (even if she is at the destination), she will lose.\n",
    "\n",
    "Given $n$, and initial energy $E_0$, plan how Jane can reach level $n$ (ninja level, in case you forgot) while\n",
    "avoiding Kilokahn who  lurks when dividing the level by $7$ leaves a remainder of $2$ and keeping her energy levels\n",
    "always strictly positive."
   ]
  },
  {
   "cell_type": "markdown",
   "metadata": {},
   "source": [
    "----"
   ]
  },
  {
   "cell_type": "markdown",
   "metadata": {},
   "source": [
    "### 3(A): Write a Recurrence\n",
    "\n",
    "Write a recurrence `minCoursesWithEnergyBudget(j, E, n)` that given that Jane is currently on level `j` with energy `E` finds the minimal \n",
    "number of courses she needs to take to reach `n`. Do not forget the base cases."
   ]
  },
  {
   "cell_type": "code",
   "execution_count": 27,
   "metadata": {},
   "outputs": [],
   "source": [
    "def minCoursesWithEnergyBudget(j, E, n):\n",
    "    # Base case: If Jane's current level is greater than or equal to n, no more courses are needed.\n",
    "    if j >= n:\n",
    "        return 0\n",
    "    \n",
    "    # Base case: If energy level is less than or equal to 0, return infinity to indicate failure.\n",
    "    if E <= 0:\n",
    "        return float('inf')\n",
    "\n",
    "    # Initialize minimum courses to a large number.\n",
    "    minCourses = float('inf')  # Initialize with infinity, as we are looking for the minimum.\n",
    "    \n",
    "    # Energy consumption mapping for each jump.\n",
    "    energy_consumption = {1: 1, 4: 2, 5: 3, 11: 7}\n",
    "\n",
    "    # Iterate through possible steps.\n",
    "    for step in [1, 4, 5, 11]:\n",
    "        next_level = j + step\n",
    "        # Update energy after making the jump.\n",
    "        next_energy = E - energy_consumption.get(step, 0)\n",
    "\n",
    "        # Check if the next level is safe (not leaving a remainder of 2 when divided by 7) or it's the target level.\n",
    "        # Also, ensure that energy level is positive after making the jump.\n",
    "        if (next_level % 7 != 2 or next_level == n) and next_level <= n and next_energy > 0:\n",
    "\n",
    "            # Compute the minimum number of courses required if moving to the next level is safe and energy is sufficient.\n",
    "            courses = 1 + minCoursesWithEnergyBudget(next_level, next_energy, n)\n",
    "            minCourses = min(minCourses, courses)\n",
    "\n",
    "    return minCourses"
   ]
  },
  {
   "cell_type": "code",
   "execution_count": 28,
   "metadata": {},
   "outputs": [
    {
     "name": "stdout",
     "output_type": "stream",
     "text": [
      "2\n",
      "1\n",
      "5\n",
      "7\n",
      "7\n",
      "7\n",
      "11\n",
      "12\n"
     ]
    }
   ],
   "source": [
    "# test code do not edit\n",
    "print(minCoursesWithEnergyBudget(1, 25, 10)) # must be 2\n",
    "print(minCoursesWithEnergyBudget(1, 25, 6)) # must be 1\n",
    "print(minCoursesWithEnergyBudget(1, 25, 30)) # must be 5\n",
    "print(minCoursesWithEnergyBudget(1, 16, 30)) # must be 7\n",
    "print(minCoursesWithEnergyBudget(1, 18, 31)) # must be 7\n",
    "print(minCoursesWithEnergyBudget(1, 22, 38)) # must be 7\n",
    "print(minCoursesWithEnergyBudget(1, 32, 55)) # must be 11\n",
    "print(minCoursesWithEnergyBudget(1, 35, 60)) # must be 12"
   ]
  },
  {
   "cell_type": "markdown",
   "metadata": {},
   "source": [
    "## 3(B): Memoize the Recurrence\n",
    "\n",
    "Write a memo table to memoize the recurrence. Your memo table must be  of the form $T[j][e]$ for $j$ ranging from $1$ to $n$\n",
    "and $e$ ranging from $0$ to $E$. You will have to handle the base cases carefully."
   ]
  },
  {
   "cell_type": "code",
   "execution_count": 29,
   "metadata": {},
   "outputs": [],
   "source": [
    "def minCoursesWithEnergyBudget_Memoize(E, n):\n",
    "    # Energy consumption mapping for each jump.\n",
    "    energy_consumption = {1: 1, 4: 2, 5: 3, 11: 7}\n",
    "\n",
    "    # Initialize memoization table with None\n",
    "    # Plus one to accommodate the range up to n and E inclusively\n",
    "    T = [[None for _ in range(E + 1)] for _ in range(n + 1)]\n",
    "    \n",
    "    def dp(j, e):\n",
    "        # Base cases\n",
    "        if j >= n:  # If Jane's current level is at or beyond the target, no more courses are needed.\n",
    "            return 0\n",
    "        if e <= 0:  # If energy is zero or negative, this path fails.\n",
    "            return float('inf')\n",
    "\n",
    "        # Check if we have already computed this state\n",
    "        if T[j][e] is not None:\n",
    "            return T[j][e]\n",
    "\n",
    "        # Initialize minimum courses for this state\n",
    "        minCourses = float('inf')\n",
    "        \n",
    "        for step in [1, 4, 5, 11]:\n",
    "            next_level = j + step\n",
    "            next_energy = e - energy_consumption.get(step, 0)\n",
    "            \n",
    "            # Ensure next level and energy are valid and compute minimum courses if valid\n",
    "            if (next_level % 7 != 2 or next_level == n) and next_level <= n and next_energy > 0:\n",
    "                courses = 1 + dp(next_level, next_energy)\n",
    "                minCourses = min(minCourses, courses)\n",
    "        \n",
    "        # Memoize and return the computed minimum\n",
    "        T[j][e] = minCourses\n",
    "        return minCourses\n",
    "\n",
    "    # Call the dp function starting from level 1 with initial energy E\n",
    "    return dp(1, E)"
   ]
  },
  {
   "cell_type": "code",
   "execution_count": 30,
   "metadata": {},
   "outputs": [
    {
     "name": "stdout",
     "output_type": "stream",
     "text": [
      "2\n",
      "1\n",
      "5\n",
      "7\n",
      "7\n",
      "7\n",
      "11\n",
      "12\n"
     ]
    }
   ],
   "source": [
    "# test code do not edit\n",
    "print(minCoursesWithEnergyBudget_Memoize(25, 10)) # must be 2\n",
    "print(minCoursesWithEnergyBudget_Memoize(25, 6)) # must be 1\n",
    "print(minCoursesWithEnergyBudget_Memoize(25, 30)) # must be 5\n",
    "print(minCoursesWithEnergyBudget_Memoize(16, 30)) # must be 7\n",
    "print(minCoursesWithEnergyBudget_Memoize(18, 31)) # must be 7\n",
    "print(minCoursesWithEnergyBudget_Memoize(22, 38)) # must be 7\n",
    "print(minCoursesWithEnergyBudget_Memoize(32, 55)) # must be 11\n",
    "print(minCoursesWithEnergyBudget_Memoize(35, 60)) # must be 12"
   ]
  },
  {
   "cell_type": "markdown",
   "metadata": {},
   "source": [
    "## 3(C): Recover the Solution\n",
    "\n",
    "Now write code that will also return the minimum number of courses along with the list of jumps that will achieve this minimum number"
   ]
  },
  {
   "cell_type": "code",
   "execution_count": 33,
   "metadata": {},
   "outputs": [],
   "source": [
    "def minCoursesWithEnergyBudget_Solution(E, n):\n",
    "    # Energy consumption mapping for each jump.\n",
    "    energy_consumption = {1: 1, 4: 2, 5: 3, 11: 7}\n",
    "\n",
    "    # Initialize memoization table with None for minimum courses and an empty list for the path.\n",
    "    T = [[None for _ in range(E + 1)] for _ in range(n + 1)]\n",
    "    \n",
    "    def dp(j, e):\n",
    "        # Base case: If Jane's current level is at or beyond the target.\n",
    "        if j >= n:\n",
    "            return (0, [])\n",
    "        # Base case: If energy is zero or negative, this path fails.\n",
    "        if e <= 0:\n",
    "            return (float('inf'), [])\n",
    "        \n",
    "        # Check if we have already computed this state.\n",
    "        if T[j][e] is not None:\n",
    "            return T[j][e]\n",
    "\n",
    "        # Initialize minimum courses for this state with infinity and empty path.\n",
    "        minCourses = (float('inf'), [])\n",
    "        \n",
    "        for step in [1, 4, 5, 11]:\n",
    "            next_level = j + step\n",
    "            next_energy = e - energy_consumption[step]\n",
    "            \n",
    "            # Ensure next level and energy are valid and compute minimum courses if valid.\n",
    "            if (next_level % 7 != 2 or next_level == n) and next_level <= n and next_energy > 0:\n",
    "                courses, path = dp(next_level, next_energy)\n",
    "                # Update minimum if a new minimum is found.\n",
    "                if courses + 1 < minCourses[0]:\n",
    "                    minCourses = (courses + 1, [step] + path)  # Prepend step to path\n",
    "        \n",
    "        # Memoize and return the computed minimum along with the path.\n",
    "        T[j][e] = minCourses\n",
    "        return minCourses\n",
    "\n",
    "    # Call the dp function starting from level 1 with initial energy E.\n",
    "    minCourses, path = dp(1, E)\n",
    "    return minCourses, path"
   ]
  },
  {
   "cell_type": "code",
   "execution_count": 34,
   "metadata": {},
   "outputs": [
    {
     "name": "stdout",
     "output_type": "stream",
     "text": [
      "(2, [4, 5])\n",
      "(1, [5])\n",
      "(5, [4, 5, 4, 5, 11])\n",
      "(7, [4, 5, 4, 4, 4, 4, 4])\n",
      "(7, [4, 5, 4, 4, 4, 4, 5])\n",
      "(7, [4, 5, 4, 4, 4, 5, 11])\n",
      "(11, [4, 5, 4, 4, 4, 4, 5, 4, 4, 11, 5])\n",
      "(12, [4, 5, 4, 4, 4, 4, 5, 4, 4, 11, 5, 5])\n"
     ]
    }
   ],
   "source": [
    "# test code do not edit\n",
    "print(minCoursesWithEnergyBudget_Solution(25, 10)) # must be 2, [4,5]\n",
    "print(minCoursesWithEnergyBudget_Solution(25, 6)) # must be 1, [5]\n",
    "print(minCoursesWithEnergyBudget_Solution(25, 30)) # must be 5, [4, 5, 4, 5, 11]\n",
    "print(minCoursesWithEnergyBudget_Solution(16, 30)) # must be 7, [4, 5, 4, 4, 4, 4, 4]\n",
    "print(minCoursesWithEnergyBudget_Solution(18, 31)) # must be 7, [4, 5, 4, 4, 4, 4, 5]\n",
    "print(minCoursesWithEnergyBudget_Solution(22, 38)) # must be 7,  [4, 5, 4, 4, 4, 5, 11]\n",
    "print(minCoursesWithEnergyBudget_Solution(32, 55)) # must be 11, [4, 5, 4, 4, 4, 4, 5, 4, 4, 11, 5]\n",
    "print(minCoursesWithEnergyBudget_Solution(35, 60)) # must be 12, [4, 5, 4, 4, 4, 4, 5, 4, 4, 11, 5, 5]"
   ]
  },
  {
   "cell_type": "markdown",
   "metadata": {},
   "source": [
    "----"
   ]
  },
  {
   "cell_type": "markdown",
   "metadata": {},
   "source": [
    "## Question 4: Subset Sum Problem\n",
    "\n",
    "We are given a set of whole numbers $S:\\ \\{ n_1, \\ldots, n_k \\}$ and a number $N$.\n",
    "Our goal is to choose a subset of numbers $T:\\ \\{ n_{i_1}, \\ldots, n_{i_j} \\} \\subseteq S$ such that\n",
    "\n",
    "   (a) $\\sum_{l=1}^j n_{i_l}  \\leq N$, the sum of chosen numbers is less than or equal to $N$, \n",
    "\n",
    "   (b) The difference $N - \\sum_{l=1}^j n_{i_l} $ is made as small as possible.\n",
    "\n",
    " For example, $S = \\{ 1, 2, 3, 4, 5, 10 \\}$ and $N = 20$ then by choosing $T = \\{1, 2, 3, 4, 5\\}$, we have  \n",
    "$1 + 2 + 3 + 4 + 5 = 15 \\leq 20$, achieving a difference of $5$. However, if we chose $T = \\{ 2,3,5,10\\}$ \n",
    "we obtain a sum of $2 + 3 + 5 + 10 = 20$ achieving the smallest possible difference of $0$.\n",
    "\n",
    "\n",
    "Therefore the problem is as follows:\n",
    "\n",
    "  * Inputs: list  $S: [n_1, \\ldots, n_k]$ and number $N$.\n",
    "  * Output: a list $T$ of elements from $S$ such that sum of elements of $T$ is  $\\leq N$ and $N - \\sum_{e \\in T} e$ is the smallest possible.\n",
    "\n",
    "The subsequent parts to this problem ask you to derive a dynamic programming solution to this problem.\n",
    "\n",
    "__Note:__ Because $S$ and $T$ are viewed as sets, each element in the set may occur exactly once."
   ]
  },
  {
   "cell_type": "markdown",
   "metadata": {},
   "source": [
    " ## 4(A) Show how the decisions can be staged to obtain optimal substructure (expected size: 5 lines)"
   ]
  },
  {
   "cell_type": "markdown",
   "metadata": {},
   "source": [
    "Decision at each stage: At each stage, for a current number $n_i$ in set $S$, we decide whether to include $n_i$ in the subset $T$ or not. This decision is based on whether including $n_i$ helps us get closer to, but not exceed, the target sum $N$.\n",
    "\n",
    "Optimal Substructure: The optimal solution to the problem for a set $S$ of size $k$ and target sum $N$ depends on the optimal solutions to smaller problems. Specifically, for each number $n_i$, we solve two subproblems: one where $n_i$ is included (if it does not cause the sum to exceed $N$) and one where $n_i$ is excluded. The better of these two solutions (i.e., the one that yields a sum closest to $N$) is chosen for each $n_i$.\n",
    "\n",
    "Overlapping Subproblems: As we break down the problem into smaller subproblems, we find that the same subproblem (with the same remaining sum $N - \\sum_{e \\in T} e$ and the same subset of $S$ remaining to be considered) can arise multiple times. This redundancy is a key indicator that dynamic programming can be used to store intermediate results and avoid recomputing them, thus improving efficiency.\n",
    "\n",
    "Bottom-Up Approach: We can construct a table where each cell $(i, j)$ represents the maximum sum we can achieve using the first $i$ numbers of $S$ without exceeding the sum $j$. We fill this table in a bottom-up manner, starting from the smallest subproblems (using no numbers to achieve sum $0$) up to the entire set $S$ to achieve sum $N$.\n",
    "\n",
    "Reconstruction of Solution: After filling the table, we trace back from the cell representing the target sum $N$ using the entire set $S$ to determine which elements were included in the optimal subset $T$. This backtracking is possible because each entry in the table contains not just the value of the optimal solution up to that point but also implicitly which decision (include or exclude the current number) led to that optimal solution."
   ]
  },
  {
   "cell_type": "markdown",
   "metadata": {},
   "source": [
    "## 4(B): Write a recursive function for calculating the minimum value of the difference possible. "
   ]
  },
  {
   "cell_type": "code",
   "execution_count": 35,
   "metadata": {},
   "outputs": [],
   "source": [
    "def minSubsetDifference_recursive(N, s_list):\n",
    "    def helper(index, current_sum):\n",
    "        # Base case: If we've considered all elements\n",
    "        if index == len(s_list):\n",
    "            return abs(N - current_sum)\n",
    "        \n",
    "        # Include the current element in the subset\n",
    "        include = helper(index + 1, current_sum + s_list[index])\n",
    "        \n",
    "        # Exclude the current element from the subset\n",
    "        exclude = helper(index + 1, current_sum)\n",
    "        \n",
    "        # Return the minimum of including or excluding the current element\n",
    "        return min(include, exclude)\n",
    "    \n",
    "    # Call the helper function starting with the first index and sum of 0\n",
    "    return helper(0, 0)"
   ]
  },
  {
   "cell_type": "code",
   "execution_count": 36,
   "metadata": {},
   "outputs": [
    {
     "name": "stdout",
     "output_type": "stream",
     "text": [
      "0\n",
      "1\n",
      "0\n",
      "0\n",
      "0\n",
      "1\n",
      "0\n",
      "1\n"
     ]
    }
   ],
   "source": [
    "# Code for testing your solution\n",
    "# DO NOT EDIT\n",
    "print(minSubsetDifference_recursive(15, [1, 2, 3, 4, 5, 10])) # Should be zero\n",
    "print(minSubsetDifference_recursive(26, [1, 2, 3, 4, 5, 10])) # should be 1\n",
    "print(minSubsetDifference_recursive(23, [1, 2, 3, 4, 5, 10])) # should be 0\n",
    "print(minSubsetDifference_recursive(18, [1, 2, 3, 4, 5, 10])) # should be 0\n",
    "print(minSubsetDifference_recursive(9, [1, 2, 3, 4, 5, 10])) # should be 0\n",
    "print(minSubsetDifference_recursive(457, [11, 23, 37, 48, 94, 152, 230, 312, 339, 413])) # should be 1\n",
    "print(minSubsetDifference_recursive(512, [11, 23, 37, 48, 94, 152, 230, 312, 339, 413])) # should be 0\n",
    "print(minSubsetDifference_recursive(616, [11, 23, 37, 48, 94, 152, 230, 312, 339, 413])) # should be 1"
   ]
  },
  {
   "cell_type": "markdown",
   "metadata": {},
   "source": [
    "## 4(C): Memoize the recurrence above. \n",
    "\n",
    "To help with your memoization, use a 2D memo table  $T[n][j]$ that represents the value for `minSubsetDifference(n, s_list[0:j])`. "
   ]
  },
  {
   "cell_type": "code",
   "execution_count": 39,
   "metadata": {},
   "outputs": [],
   "source": [
    "def minSubsetDifference_Memoize(N, s_list):\n",
    "    # Create a memoization dictionary to store results of subproblems\n",
    "    memo = {}\n",
    "    \n",
    "    # Nested helper function to implement the recursion with additional parameters\n",
    "    def helper(index, current_sum):\n",
    "        # Check if the result is already in the memo\n",
    "        if (index, current_sum) in memo:\n",
    "            return memo[(index, current_sum)]\n",
    "        \n",
    "        # Base case: If we've considered all elements\n",
    "        if index == len(s_list):\n",
    "            return abs(N - current_sum)\n",
    "        \n",
    "        # Include the current element in the subset\n",
    "        include = helper(index + 1, current_sum + s_list[index])\n",
    "        \n",
    "        # Exclude the current element from the subset\n",
    "        exclude = helper(index + 1, current_sum)\n",
    "        \n",
    "        # Store the result in memo before returning\n",
    "        memo[(index, current_sum)] = min(include, exclude)\n",
    "        \n",
    "        return memo[(index, current_sum)]\n",
    "    \n",
    "    # Call the helper function starting with the first index and sum of 0\n",
    "    return helper(0, 0)"
   ]
  },
  {
   "cell_type": "code",
   "execution_count": 40,
   "metadata": {},
   "outputs": [
    {
     "name": "stdout",
     "output_type": "stream",
     "text": [
      "0\n",
      "1\n",
      "0\n",
      "0\n",
      "0\n",
      "1\n",
      "0\n",
      "1\n"
     ]
    }
   ],
   "source": [
    "# Code for testing your solution\n",
    "# DO NOT EDIT\n",
    "print(minSubsetDifference_Memoize(15, [1, 2, 3, 4, 5, 10])) # Should be 0\n",
    "print(minSubsetDifference_Memoize(26, [1, 2, 3, 4, 5, 10])) # should be 1\n",
    "print(minSubsetDifference_Memoize(23, [1, 2, 3, 4, 5, 10])) # should be 0\n",
    "print(minSubsetDifference_Memoize(18, [1, 2, 3, 4, 5, 10])) # should be 0\n",
    "print(minSubsetDifference_Memoize(9, [1, 2, 3, 4, 5, 10])) # should be 0\n",
    "print(minSubsetDifference_Memoize(457, [11, 23, 37, 48, 94, 152, 230, 312, 339, 413])) # should be 1\n",
    "print(minSubsetDifference_Memoize(512, [11, 23, 37, 48, 94, 152, 230, 312, 339, 413])) # should be 0\n",
    "print(minSubsetDifference_Memoize(616, [11, 23, 37, 48, 94, 152, 230, 312, 339, 413])) # should be 1"
   ]
  },
  {
   "cell_type": "markdown",
   "metadata": {},
   "source": [
    "## 4(D): Write code to recover the solution"
   ]
  },
  {
   "cell_type": "code",
   "execution_count": 55,
   "metadata": {},
   "outputs": [],
   "source": [
    "def minSubsetDifference(N, s_list):\n",
    "    memo = {}\n",
    "\n",
    "    def helper(index, current_sum):\n",
    "        # Check if the result is already in the memo\n",
    "        if (index, current_sum) in memo:\n",
    "            return memo[(index, current_sum)]\n",
    "        if index == len(s_list):\n",
    "            return abs(N - current_sum), []\n",
    "\n",
    "        include_diff, include_subset = helper(index + 1, current_sum + s_list[index])\n",
    "        exclude_diff, exclude_subset = helper(index + 1, current_sum)\n",
    "\n",
    "        if include_diff < exclude_diff:\n",
    "            result = (include_diff, include_subset + [s_list[index]])\n",
    "        else:\n",
    "            result = (exclude_diff, exclude_subset)\n",
    "\n",
    "        memo[(index, current_sum)] = result\n",
    "        return result\n",
    "\n",
    "    min_diff, subset = helper(0, 0)\n",
    "    return min_diff, subset"
   ]
  },
  {
   "cell_type": "code",
   "execution_count": 56,
   "metadata": {},
   "outputs": [
    {
     "name": "stdout",
     "output_type": "stream",
     "text": [
      "(0, [10, 5])\n",
      "(1, [10, 5, 4, 3, 2, 1])\n",
      "(0, [10, 5, 4, 3, 1])\n",
      "(0, [10, 5, 3])\n",
      "(0, [5, 4])\n",
      "(1, [339, 94, 23])\n",
      "(0, [312, 152, 48])\n",
      "(1, [339, 230, 48])\n"
     ]
    }
   ],
   "source": [
    "# Code for testing your solution\n",
    "# DO NOT EDIT\n",
    "print(minSubsetDifference(15, [1, 2, 3, 4, 5, 10])) # Should be 0, [5, 4, 3, 2, 1]\n",
    "print(minSubsetDifference(26, [1, 2, 3, 4, 5, 10])) # should be 1, [10, 5, 4, 3, 2, 1]\n",
    "print(minSubsetDifference(23, [1, 2, 3, 4, 5, 10])) # should be 0, [10, 5, 4, 3, 1]\n",
    "print(minSubsetDifference(18, [1, 2, 3, 4, 5, 10])) # should be 0, [10, 4, 3, 1]\n",
    "print(minSubsetDifference(9, [1, 2, 3, 4, 5, 10])) # should be 0, [4, 3, 2]\n",
    "print(minSubsetDifference(457, [11, 23, 37, 48, 94, 152, 230, 312, 339, 413])) # should be 1, [339, 94, 23]\n",
    "print(minSubsetDifference(512, [11, 23, 37, 48, 94, 152, 230, 312, 339, 413])) # should be 0, [312, 152, 37, 11]\n",
    "print(minSubsetDifference(616, [11, 23, 37, 48, 94, 152, 230, 312, 339, 413])) # should be 1, [413, 94, 48, 37]"
   ]
  },
  {
   "cell_type": "markdown",
   "metadata": {},
   "source": [
    "### I gave up on trying to get the correct solution sorry."
   ]
  },
  {
   "cell_type": "markdown",
   "metadata": {},
   "source": [
    "## 4 (E): Greedy Solution\n",
    "\n",
    "Suppose we use the following greedy solution to solve the problem.\n",
    "  * $T = \\emptyset$\n",
    "  * While ( $ N \\geq 0 $) \n",
    "    * Select the largest element $e$ for $S$ that is smaller than $N$\n",
    "    * Remove $e$ from $S$\n",
    "    * Add $e$ to $T$\n",
    "    * N = N - e\n",
    "  * return (N, T)\n",
    "  \n",
    "Using an example, show that the greedy algorithm does not necessarily produce the optimal solution."
   ]
  },
  {
   "cell_type": "markdown",
   "metadata": {},
   "source": [
    "### Answer (4 lines)"
   ]
  },
  {
   "cell_type": "markdown",
   "metadata": {},
   "source": [
    "The greedy algorithm does not always produce the optimal solution because it makes the local optimal choice at each step with the hope of finding the global optimum without considering the overall problem.\n",
    "\n",
    "For example, let's consider the set S={1,3,4,9} and N=10. Following the greedy algorithm:\n",
    "\n",
    "We first select the largest element smaller than NN, which is 9, and subtract it from N, leaving N=1.\n",
    "\n",
    "The remaining elements in S are {1,3,4}, and we select 1 because it's the only one left smaller than the new N.\n",
    "\n",
    "This gives us T={9,1} and N=0.\n",
    "\n",
    "However, the optimal solution is T={4,3,3}, which also results in N=0 but uses a smaller number of elements from S. This example shows that the greedy solution can fail to find the minimum difference or the most efficient subset of elements that achieves that difference, demonstrating it does not guarantee an optimal solution."
   ]
  },
  {
   "cell_type": "markdown",
   "metadata": {},
   "source": [
    "## Testing your solutions -- Do not edit code beyond this point"
   ]
  },
  {
   "cell_type": "code",
   "execution_count": null,
   "metadata": {},
   "outputs": [],
   "source": []
  },
  {
   "cell_type": "code",
   "execution_count": null,
   "metadata": {},
   "outputs": [],
   "source": []
  }
 ],
 "metadata": {
  "kernelspec": {
   "display_name": "Python 3 (ipykernel)",
   "language": "python",
   "name": "python3"
  },
  "language_info": {
   "codemirror_mode": {
    "name": "ipython",
    "version": 3
   },
   "file_extension": ".py",
   "mimetype": "text/x-python",
   "name": "python",
   "nbconvert_exporter": "python",
   "pygments_lexer": "ipython3",
   "version": "3.10.8"
  }
 },
 "nbformat": 4,
 "nbformat_minor": 4
}
