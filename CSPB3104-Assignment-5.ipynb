{
 "cells": [
  {
   "cell_type": "markdown",
   "metadata": {},
   "source": [
    "# CSPB 3104 Assignment 5:"
   ]
  },
  {
   "cell_type": "markdown",
   "metadata": {},
   "source": [
    "***\n",
    "# Instructions\n",
    "\n",
    "This assignment is to be completed as a python3 notebook.  When you upload, please upload the completed notebook (ipynb file).\n",
    "\n",
    "The questions  provided  below will ask you to either write code or \n",
    "write answers in the form of markdown.\n",
    "\n",
    " Markdown syntax guide is here: [click here](https://github.com/adam-p/markdown-here/wiki/Markdown-Cheatsheet)\n",
    "\n",
    "Using markdown you can typeset formulae using latex.\n",
    "This way you can write nice readable answers with formulae like thus:\n",
    "\n",
    "The algorithm runs in time $\\Theta\\left(n^{2.1\\log_2(\\log_2( n \\log^*(n)))}\\right)$, \n",
    "where $\\log^*(n)$ is the inverse _Ackerman_ function.\n",
    "\n",
    "__Double click anywhere on this box to find out how your instructor typeset it. Press Shift+Enter to go back.__\n",
    "\n",
    "***"
   ]
  },
  {
   "cell_type": "markdown",
   "metadata": {},
   "source": [
    "## Question 1: AVL Trees.\n",
    "\n",
    " AVL Trees are yet another self balancing binary search tree (BST) that are sometimes used in the place of  red black trees.\n",
    " The key property of an AVL tree is that \n",
    "\n",
    " *for all nodes $n$ in the tree*, $\\left|\\ \\text{height}(n.\\text{left}) - \\text{height}(n.\\text{right}) \\right| \\leq 1$\n",
    "\n",
    " In words, the height of the left subtree and right subtree at any node can differ by at most $1$.\n",
    " \n",
    " Let $h$ be the height of an AVL tree and $n$ be the number of nodes in the tree.  The goal of this problem is to prove a relationship between $h$ and $n$.  We've broken this into two steps:\n",
    "\n",
    " (A) Prove that $n \\geq F_h$, where $F_h$ is the $h^{th}$ Fibonacci number. ($F_0 = 1, F_1 = 1, F_2 = 2, \\ldots $)\n",
    "  (*Hint* Use strong induction with two base cases. First establish the property for all AVL trees of heights 0 and 1. Next, assuming\n",
    "  it holds for trees of height $\\leq h$, prove it for trees of height $h+1$ ).\n",
    "  \n",
    "  \n",
    "  Next, it is a fact that for any $k \\geq 30$, $F_k \\geq 1.5^k$.\n",
    "  \n",
    " (B) Using the above fact and the result from part A,  show that $h = \\Theta(\\log(n))$.\n",
    "\n",
    " (C) We will briefly examine inserting a node into an AVL tree through an example. On the left, we have shown an AVL tree and to the right we show the result after a BST insert has happened.\n",
    "\n",
    "![AVL Tree Before and After Insertion](avl-tree-insert-problem-img.jpeg \"AVL Tree Insertion\" )\n",
    "\n",
    "  Devise a sequence of left and right rotations that will restore the AVL tree property.\n",
    "Explain for each rotation what is the root node at which we are rotating and which direction. If you wish, you may insert images showing the trees before/after rotation using markdown (see how we inserted the image. But do not forget to upload the images with the submission).\n",
    "\n",
    "\n",
    "\n",
    "\n"
   ]
  },
  {
   "cell_type": "markdown",
   "metadata": {},
   "source": [
    " ### Answer 1 (Expected length: 15 lines)\n",
    "\n",
    "### Part A: Prove that $n \\geq F_h$, where $F_h$ is the $h^{th}$ Fibonacci number.\n",
    "\n",
    "Height h=0: An AVL tree of height 0 has 1 node (the root itself). The Fibonacci number $F_0 = 1$. Thus, $n = 1 \\geq F_0 = 1$.\n",
    "\n",
    "Height h=1: An AVL tree of height 1 can have 2 nodes (one root and one child). The Fibonacci number $F_1 = 1$. Thus, $n = 2 \\geq F_1 = 1$.\n",
    "\n",
    "Inductive Step\n",
    "\n",
    "Assume the property n $\\geq F_h$ holds for all AVL trees of height $\\leq h$. We need to prove it for an AVL tree of height h+1.\n",
    "\n",
    "An AVL tree of height h+1 must have two subtrees; one of height h and the other of at least height h-1 (because the height difference cannot be more than 1 to maintain the AVL property).\n",
    "\n",
    "Let the number of nodes in the subtree of height h be $n_h$, and the number of nodes in the subtree of height h-1 be $n_{h-1}$.\n",
    "By the induction hypothesis, $n_h \\geq F_h and n_{h-1} \\geq F_{h-1}$.\n",
    "\n",
    "The total number of nodes n in the tree of height h+1 is $n = n_h + n_{h-1} + 1$, where +1 accounts for the root node.\n",
    "\n",
    "Thus, $n \\geq F_h + F_{h-1} + 1$.\n",
    "\n",
    "The Fibonacci sequence is defined as $F_k = F_{k-1} + F_{k-2}$, so $F_{h+1} = F_h + F_{h-1}$.\n",
    "\n",
    "Therefore, $n \\geq F_{h+1}$.\n",
    "\n",
    "This completes the induction, proving that for an AVL tree of height h, the number of nodes $n \\geq F_h$.\n",
    "\n",
    "### Part B: Showing $h = \\Theta(\\log(n))$\n",
    "\n",
    "Given $F_k \\geq 1.5^k$ for $k \\geq 30$ and $n \\geq F_h$, we substitute to get $n \\geq 1.5^h$. Taking the logarithm of both sides gives $\\log(n) \\geq \\log(1.5^h) = h\\log(1.5)$. Since $\\log(1.5)$ is a constant, this implies $h = O(\\log(n))$.\n",
    "\n",
    "For the lower bound, considering the property of AVL trees that they are balanced, and given that $n \\geq F_h$, with $F_h$ growing exponentially as a function of h (Fibonacci numbers grow exponentially), we can also infer that h must grow at least logarithmically with n to keep the tree balanced. Hence, $h = \\Omega(\\log(n))$.\n",
    "\n",
    "Combining both, $h = \\Theta(\\log(n))$.\n",
    "\n",
    "### Part C: AVL Tree Rotation\n",
    "\n",
    "After inserting the node 24, we can see that the node 22 has a balance factor of 3, which indicates that it is now unbalanced due to the right-heavy subtree.\n",
    "\n",
    "The imbalance is caused by the right child of the right child of node 22 (a right-right case). This calls for a Left Rotation to be performed on node 22.\n",
    "\n",
    "Perform Rotation: Execute a single left rotation at node 22.\n",
    "\n",
    "The right child of node 22, which is node 29, will come up and take the place of node 22.\n",
    "Node 22 will become the left child of the new root of this subtree, which is node 29.\n",
    "The left child of node 29, if any, will become the right child of node 22.\n"
   ]
  },
  {
   "cell_type": "markdown",
   "metadata": {},
   "source": [
    "***\n",
    "## Question 2: Bloom Filters"
   ]
  },
  {
   "cell_type": "markdown",
   "metadata": {},
   "source": [
    "\n",
    " A bloom filter is a fast set data structure that maintains a set $S$ of keys. One can insert keys into the set and test whether a given key $k$ belongs to the set. It may used in applications where the keys are \"complicated\" objects such as TCP packets or images that are expensive to compare with each other. \n",
    " \n",
    "\n",
    " The data structure is an array $T$ of Booleans size $m$ with $l$ different hash functions $h_1, \\ldots, h_l$.\n",
    " Initially, `T[i] = FALSE` for all `i`.\n",
    "\n",
    " If a key $k$ is to be inserted \n",
    " we first compute $i_1 = h_1(k), \\ldots, i_l = h_l(k)$ and then we set $T[i_1] = \\cdots T[i_l] = \\text{TRUE}$.\n",
    "\n",
    " __Note:  A bloom filter is *not* a hash table, but they both use hash functions in interesting ways.__\n",
    "\n",
    " __(A)__ Suppose we wish to find out if an element $k$ is a member of the set by checking if\n",
    "$T[h_1(k)], \\ldots, T[h_l(k)]$ are all true. Explain whether this can lead to a *false positive* i.e,\n",
    "the approach wrongly concludes that $k$ belongs to the set when it was never inserted; or *false negative*\n",
    "i.e, the approach wrongly concludes that $k$ does not belong to the set when it does.\n",
    "\n",
    " __(B)__ Suppose our hash functions are guaranteed to be uniform. I.e, for any randomly chosen\n",
    "key $k$, for any hash function $h_i$ and cell $j$, \n",
    "  $$ \\mathbb{P}( h_i(k) = j)  = \\frac{1}{m} $$\n",
    " If $n$ keys are chosen at random and inserted into the filter, compute that probability that any given cell $T[j]$ is set to FALSE after this.\n",
    "\n",
    " __(C)__ Use the results from previous set to estimate the probabilisty of a false positive. I.e, some $l$ cells\n",
    "$i_1, i_2, \\ldots, i_l$ are simultaneously set to TRUE.\n",
    "\n",
    " \n",
    "\n"
   ]
  },
  {
   "cell_type": "markdown",
   "metadata": {},
   "source": [
    "### Answer 2 { Expected Size: 15 lines}\n",
    "\n",
    "(A) False Positives and False Negatives in a Bloom Filter\n",
    "\n",
    "In a Bloom Filter, when checking if an element $k$ is in the set, if all $T[h_1(k)], \\ldots, T[h_l(k)]$ are true, we may conclude that $k$ is in the set. However, since Bloom Filters allow for hash collisions, it is possible that these positions in the array were set to TRUE by insertions of different elements (other than $k$). Therefore, the filter may erroneously indicate the presence of $k$ when it was not inserted. This is known as a false positive. On the other hand, a Bloom Filter is designed such that if an element has been inserted, all its corresponding positions in the array will be set to TRUE. Hence, if any of the positions $T[h_1(k)], \\ldots, T[h_l(k)]$ is FALSE, the element $k$ was definitely not inserted, and so Bloom Filters do not produce false negatives.\n",
    "\n",
    "(B) Probability of a Cell Being FALSE After Insertions\n",
    "\n",
    "Given that the hash functions are uniform, the probability that any given hash function does not set a particular cell $T[j]$ to TRUE for a single key is $1 - \\frac{1}{m}$. Since the hash functions are independent, the probability that none of the $n$ keys sets $T[j]$ to TRUE is the product of the probabilities for each individual key not affecting $T[j]$. This can be computed as:\n",
    "\n",
    "$\\left(1 - \\frac{1}{m}\\right)^n$\n",
    "\n",
    "However, since we have $l$ hash functions, we need to consider the probability that none of the $l$ hash functions will set $T[j]$ to TRUE for each of the $n$ insertions. The probability for each key not setting $T[j]$ to TRUE with any of the hash functions is:\n",
    "\n",
    "$\\left(1 - \\frac{1}{m}\\right)^l$\n",
    "\n",
    "So, the probability that $T[j]$ is still FALSE after all $n$ keys have been inserted is:\n",
    "\n",
    "$\\left(1 - \\frac{1}{m}\\right)^{ln}$\n",
    "\n",
    "(C) Probability of a False Positive\n",
    "\n",
    "The probability of a false positive occurs when all $l$ specific cells corresponding to the hash functions for a given key $k$ that was never inserted are TRUE. This can only happen if these cells were set to TRUE by the insertion of other keys.\n",
    "\n",
    "The probability that a given cell $T[j]$ is TRUE after all insertions is the complement of the probability that the cell is FALSE:\n",
    "\n",
    "$1 - \\left(1 - \\frac{1}{m}\\right)^{ln}$\n",
    "\n",
    "Since we need all $l$ specific cells to be TRUE for a false positive, we raise this probability to the power of $l$:\n",
    "\n",
    "$\\left(1 - \\left(1 - \\frac{1}{m}\\right)^n\\right)^l$\n",
    "\n",
    "This expression gives the estimated probability of a false positive in a Bloom Filter after $n$ keys have been inserted."
   ]
  },
  {
   "cell_type": "markdown",
   "metadata": {},
   "source": [
    "## Testing your solutions -- Do not edit code beyond this point"
   ]
  },
  {
   "cell_type": "code",
   "execution_count": null,
   "metadata": {},
   "outputs": [],
   "source": []
  }
 ],
 "metadata": {
  "kernelspec": {
   "display_name": "Python 3 (ipykernel)",
   "language": "python",
   "name": "python3"
  },
  "language_info": {
   "codemirror_mode": {
    "name": "ipython",
    "version": 3
   },
   "file_extension": ".py",
   "mimetype": "text/x-python",
   "name": "python",
   "nbconvert_exporter": "python",
   "pygments_lexer": "ipython3",
   "version": "3.10.8"
  }
 },
 "nbformat": 4,
 "nbformat_minor": 4
}
