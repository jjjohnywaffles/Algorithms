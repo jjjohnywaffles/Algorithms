{
 "cells": [
  {
   "cell_type": "markdown",
   "metadata": {},
   "source": [
    "# CSPB 3104 Assignment 9\n",
    "## Instructions\n",
    "\n",
    "> This assignment is to be completed and uploaded to \n",
    "moodle as a python3 notebook. \n",
    "\n",
    "> Submission deadlines are posted on moodle. \n",
    "\n",
    "> The questions  provided  below will ask you to either write code or \n",
    "write answers in the form of markdown.\n",
    "\n",
    "> Markdown syntax guide is here: [click here](https://github.com/adam-p/markdown-here/wiki/Markdown-Cheatsheet)\n",
    "\n",
    "> Using markdown you can typeset formulae using latex.\n",
    "\n",
    "> This way you can write nice readable answers with formulae like thus:\n",
    "\n",
    ">> The algorithm runs in time $\\Theta\\left(n^{2.1\\log_2(\\log_2( n \\log^*(n)))}\\right)$, \n",
    "wherein $\\log^*(n)$ is the inverse _Ackerman_ function.\n",
    "\n",
    "__Double click anywhere on this box to find out how your instructor typeset it. Press Shift+Enter to go back. __\n"
   ]
  },
  {
   "cell_type": "markdown",
   "metadata": {},
   "source": [
    "## Question 1: Most Likely Mutation Tree\n",
    "\n",
    "This question is inspired by this research article: *Spada et al. J Clin Microbiol. 2004 Sep; 42(9): 4230–4236.* and this episode of the erstwhile popular TV show Numb3rs https://www.hulu.com/watch/315041 (need a hulu subscription).\n",
    "\n",
    "\n",
    "Viruses have RNA which mutate rapidly. Let us assume that the RNA of a viral species can be written as\n",
    "an $l$ letter string made up of A, C, T and G.  While replicating, a virus can mutate through random changes in \n",
    "$k$ out of these $l$ positions with probability proportional to  $2^{-k^2}$.  \n",
    "\n",
    "We collect viral samples starting from a single individual and after sequencing, \n",
    "we observe $n$ mutants $A_1, \\ldots, A_n$, but we do not know which individual mutated to another nor what the order of these mutations were. We wish to  reconstruct the mutation tree that connects $A_i$ to $A_j$ if $A_i$ mutated into $A_j$ or vice-versa. \n",
    "\n",
    "Assume that $l$ is large enough that the same RNA sequence cannot be obtained through two different sequences of mutations.\n",
    "\n",
    "You are given a weighted undirected graph $G$ whose vertices are the RNA sequences $A_1, \\ldots, A_n$ and there is an edge between any two nodes $(A_i, A_j)$ with weight $2^{-d(i,j)^2}$, where $d(i,j)$ is the the number of differences between  $A_i$ and $A_j$. \n",
    "\n",
    "A spanning tree $T$ of $G$ then represents a possible history of mutations, the likelihood of which is given by the product of the edge weights of $T$.\n",
    "\n",
    "Show how to compute the most likely spanning tree $T$ in this graph.\n"
   ]
  },
  {
   "cell_type": "markdown",
   "metadata": {},
   "source": [
    "#### Answer 1 (Expected Length: 6 lines)\n",
    "\n",
    "To compute the most likely spanning tree $T$ in the graph $G$, we can leverage Kruskal's algorithm with a modification to prioritize edges with higher weights, as the edge weights represent the likelihood of mutation. The weight of an edge between two nodes $(A_i, A_j)$ is $2^{-d(i,j)^2}$, where $d(i,j)$ is the number of differences between $A_i$ and $A_j$. The problem states that the mutation probability is proportional to $2^{-k^2}$, so an edge with fewer mutations (lower $d(i,j)$) will have a higher weight. This means the most likely mutations are those with minimal changes.\n",
    "\n",
    "\n",
    "\n",
    "1. **Represent the Graph**: First, represent the graph $G$ with nodes as the RNA sequences $A_1, \\ldots, A_n$ and edges between every pair of nodes. The edge weights are $2^{-d(i,j)^2}$, with $d(i,j)$ representing the number of differing positions between $A_i$ and $A_j$.\n",
    "\n",
    "2. **Sort the Edges**: Sort all edges of the graph $G$ in decreasing order of their weights. Since the weight represents the likelihood of mutation, sorting them this way ensures we prioritize mutations that are more likely to occur.\n",
    "\n",
    "3. **Initialize the Spanning Tree**: Start with an empty graph $T$ that will become the spanning tree. It contains all the vertices of $G$ but no edges.\n",
    "\n",
    "4. **Select the Edges**: Iterate through the sorted list of edges from step 2. For each edge, check if adding it to $T$ would create a cycle. If it does not create a cycle, add it to $T$. This can be efficiently done using a disjoint-set data structure (also known as a union-find data structure) to keep track of the components in $T$.\n",
    "\n",
    "5. **Create the Spanning Tree**: Continue adding edges until you have $n-1$ edges in $T$, where $n$ is the number of vertices in $G$. Since $T$ is a tree, it must have exactly $n-1$ edges to be connected and acyclic.\n",
    "\n",
    "The resulting spanning tree $T$ represents the most likely history of mutations under the given model. The product of the edge weights in $T$ gives the likelihood of this particular mutation history.\n"
   ]
  },
  {
   "cell_type": "markdown",
   "metadata": {},
   "source": [
    "### Question 2 (A): Distance Between Clusters\n",
    "\n",
    "Let $G$ be a weighted undirected graph with vertices $V$ and edges $E$. \n",
    "\n",
    "Assume that all edge weights are unique and let $T$ be a MST for this graph.\n",
    "\n",
    "Let us partition the vertices into two clusters $V_1$ and $V_2$. If an edge $e: (u,v)$ satisfies\n",
    "$u \\in V_1$ and $v\\in V_2$, we will call it _partition crossing_.\n",
    "\n",
    "We define the distance between these clusters\n",
    "as the minimum weight among all partition crossing edges of the graph. \n",
    "\n",
    "Show that the minimum weight partition crossing edge must belong to the MST $T$.\n",
    "\n",
    "__Hint:__ Attempt a proof by contradiction."
   ]
  },
  {
   "cell_type": "markdown",
   "metadata": {},
   "source": [
    "### Answer 2(A) ( Expected Length: 6 lines)\n",
    "\n",
    "To show that the minimum weight partition crossing edge must belong to the Minimum Spanning Tree (MST) $T$, we can use a proof by contradiction. Assume that the minimum weight partition crossing edge, let's call it $e_{min}$ with vertices $(u, v)$ where $u \\in V_1$ and $v \\in V_2$, does not belong to the MST $T$.\n",
    "\n",
    "1. **Assumption**: Assume that $e_{min}$ is not in the MST $T$. Since $T$ is a spanning tree, there exists at least one path in $T$ that connects $u$ and $v$. This path must consist of edges in $T$, which do not include $e_{min}$. Since $u$ and $v$ are in different clusters, $V_1$ and $V_2$, this path must cross the partition between $V_1$ and $V_2$ at least once.\n",
    "\n",
    "2. **Existence of a Heavier Edge**: The path from $u$ to $v$ in $T$ that does not include $e_{min}$ must cross the partition between $V_1$ and $V_2$. Let's consider the first edge $e'$ on this path that crosses the partition. By our assumption, $e' \\neq e_{min}$, and since all edge weights are unique and $e_{min}$ is defined as the minimum weight partition crossing edge, the weight of $e'$ must be greater than the weight of $e_{min}$.\n",
    "\n",
    "3. **Constructing a Cheaper Spanning Tree**: If we remove $e'$ from $T$ and add $e_{min}$ to it, we connect $V_1$ and $V_2$ while reducing the total weight of the tree, since the weight of $e_{min}$ is less than the weight of $e'$. This new tree is still spanning because it connects all vertices, and it is of lesser total weight than $T$, contradicting the assumption that $T$ is a Minimum Spanning Tree.\n",
    "\n",
    "4. **Contradiction**: This contradiction arises from our initial assumption that $e_{min}$ is not part of $T$. Therefore, the minimum weight partition crossing edge must indeed belong to the MST $T$.\n",
    "\n",
    "Hence, by contradiction, we have shown that the minimum weight partition crossing edge between two clusters in a graph must belong to the Minimum Spanning Tree of that graph."
   ]
  },
  {
   "cell_type": "markdown",
   "metadata": {},
   "source": [
    "## Question 2 (B) : Distance Between Point Clusters\n",
    "\n",
    "Let $\\mathcal{Q}:\\ \\{ (x_1,y_1), \\ldots, (x_n, y_n)\\}$ be the coordinates of $n$ points on a plane. Given a partition of $\\mathcal{Q}$ into two clusters $\\mathcal{Q}_1$ and $\\mathcal{Q}_2$, the distance between these clusters is defined as the smallest among the pairwise distances taking one point in $\\mathcal{Q}_1$ and one in $\\mathcal{Q}_2$:\n",
    " \n",
    " $$d(\\mathcal{Q}_1, \\mathcal{Q}_2) = \\min_{ (x_i, y_i) \\in \\mathcal{Q}_1, (x_j, y_j) \\in \\mathcal{Q}_2}\\ \\sqrt{(y_j-y_i)^2 + (x_j - x_i)^2} \\,.$$\n",
    "\n",
    "Given such a partition of $\\mathcal{Q}$, write an efficient algorithm to calculate the distance between them. In particular, we would like you to use the idea from 2(A) for this task. Also, what is the complexity of your method?\n"
   ]
  },
  {
   "cell_type": "markdown",
   "metadata": {},
   "source": [
    "### Answer 2 (B) (Expected Length: 8 lines)\n",
    "\n",
    "### Algorithm\n",
    "Construct the Graph: For each pair of points $(x_i, y_i)$ and $(x_j, y_j)$ in $\\mathcal{Q}$, compute the distance between them using the formula $\\sqrt{(y_j-y_i)^2 + (x_j - x_i)^2}$ and treat this distance as the weight of the edge connecting these two points. This results in a complete graph where every pair of vertices is connected by an edge.\n",
    "\n",
    "Filter Edges by Cluster: Remove all edges from the graph that do not cross between $\\mathcal{Q}_1$ and $\\mathcal{Q}_2$. That is, only keep the edges for which one end is in $\\mathcal{Q}_1$ and the other is in $\\mathcal{Q}_2$.\n",
    "\n",
    "Find the Minimum Weight Edge: Among the remaining edges that cross between $\\mathcal{Q}_1$ and $\\mathcal{Q}_2$, find the one with the minimum weight. The weight of this edge is the distance $d(\\mathcal{Q}_1, \\mathcal{Q}_2)$.\n",
    "\n",
    "### Complexity Analysis\n",
    "\n",
    "**Step 1 (Construct the Graph)**: The graph is complete and has $\\binom{n}{2} = \\frac{n(n-1)}{2}$ edges. Computing the distance for each edge involves a constant number of operations, so this step has $O(n^2)$ complexity.\n",
    "\n",
    "**Step 2 (Filter Edges by Cluster)**: This requires checking each of the $\\frac{n(n-1)}{2}$ edges to see if it crosses between the two clusters. If the clusters are roughly of equal size, this step is also $O(n^2)$ since all pairs are considered.\n",
    "\n",
    "**Step 3 (Find the Minimum Weight Edge)**: Finding the minimum among the remaining edges is linear in the number of edges considered, which is at most $\\frac{n(n-1)}{2}$, so this step is also $O(n^2)$.\n",
    "\n",
    "Hence, the overall complexity of this method is $O(n^2)$, due to the need to consider all pairs of points to compute and compare distances.\n"
   ]
  },
  {
   "cell_type": "markdown",
   "metadata": {},
   "source": [
    "### Question 2(C): Finding maximally separated clusters\n",
    "\n",
    "Now you are given $\\mathcal{Q}$ as above ($n$ points scattered in the plane), but without a partition.\n",
    "Use the idea from 2(B) to partition the set $\\mathcal{Q}$ into maximally separated clusters $\\mathcal{Q}_1$ and $\\mathcal{Q}_2$.  Ie, find $\\mathcal{Q}_1$ and $\\mathcal{Q}_2$ such that\n",
    "$d(\\mathcal{Q}_1, \\mathcal{Q}_2)$ is maximized.\n",
    "\n"
   ]
  },
  {
   "cell_type": "markdown",
   "metadata": {
    "jp-MarkdownHeadingCollapsed": true,
    "tags": []
   },
   "source": [
    "### Answer 2(C) (Expected Size: 4 lines)\n",
    "\n",
    "### High-Level Approach\n",
    "\n",
    "**Construct the Complete Graph**: Just like in 2(B), create a complete graph where vertices represent the points in $\\mathcal{Q}$, and the edge weights represent the distances between points.\n",
    "\n",
    "**Find the Maximum Spanning Tree (MST)**: Unlike typical applications where we seek the minimum spanning tree to minimize distances, here we want to maximize the minimum inter-cluster distance. Therefore, we construct a Maximum Spanning Tree of the graph. This is analogous to constructing the MST but prioritizing the largest weights instead of the smallest.\n",
    "\n",
    "**Partition the MST**: To find $\\mathcal{Q}_1$ and $\\mathcal{Q}_2$, we remove the largest weight edge from the Maximum Spanning Tree. This effectively partitions the tree into two separate trees, and consequently, the set $\\mathcal{Q}$ into two clusters $\\mathcal{Q}_1$ and $\\mathcal{Q}_2$. The removed edge represents the largest minimum distance that can be achieved between any two points in separate clusters.\n",
    "\n",
    "### Algorithm\n",
    "**Graph Construction**: For each pair of points $(x_i, y_i)$ and $(x_j, y_j)$ in $\\mathcal{Q}$, calculate the distance between them and assign this distance as the weight of the edge connecting these two points.\n",
    "\n",
    "**Maximum Spanning Tree**: Utilize Kruskal's or Prim's algorithm, with the modification that edges are sorted in decreasing order of weight, or the selection is made based on the largest available edge, respectively.\n",
    "\n",
    "**Partitioning**: Identify the edge with the maximum weight in the Maximum Spanning Tree and remove it. The two resulting subtrees define the clusters $\\mathcal{Q}_1$ and $\\mathcal{Q}_2$."
   ]
  },
  {
   "cell_type": "markdown",
   "metadata": {},
   "source": [
    "## Question 3:  Circular dependencies\n",
    "\n",
    "Jane Programmer (of the dreaded dynamic programming assignment) has been reviewing her school's course catalog.  Classes in her department are organized into 8 divisions -- PBNJ-1000 through PBNJ-8999, with each division more difficult than the last.  But Jane has noticed some issues -- some upper division classes have lower division prerequisites, but the opposite is true as well.  In fact, her current course, PBNJ-3104, requires PBNJ-2400 and PBNJ-2400 requires PBNJ-1300, but PBNJ-1300 requires PBNJ-3104! \n",
    "\n",
    "She wants to report these circular dependencies to the dean of the department by finding two classes which depend on each other and have the largest difference in class number.  In the example above, PBNJ-3104 and PBNJ-1300 depend on each other and have a difference of 3104 - 1300 = 1804.\n",
    "\n",
    "Given a list of classes and their prerequisites, describe an algorithm that will help Jane find the pair of classes with maximum difference between their class numbers.\n",
    "\n",
    "What is the running time of your algorithm in terms of number of classes and prereqs?\n",
    "\n",
    "__HINT:__ Your algorithm should involve the strongly connected components of a graph."
   ]
  },
  {
   "cell_type": "markdown",
   "metadata": {},
   "source": [
    "### Answer 3  (Expected Length: 5 lines) \n",
    "\n",
    "### Algorithm\n",
    "**Graph Representation**:\n",
    "Initialize a directed graph $G$ with a vertex for each course.\n",
    "Add directed edges for each prerequisite relationship.\n",
    "\n",
    "**Cycle Detection and Maximum Difference Calculation**:\n",
    "\n",
    "    Initialize two sets or arrays: visited to track visited nodes, and recStack (recursion stack) to track the nodes currently being explored.\n",
    "        For each unvisited node, call a recursive helper function that performs DFS.\n",
    "            In the DFS, mark the current node as visited and add it to the recursion stack.\n",
    "            For each neighbor (directed edge) of the current node, if the neighbor is not visited, recurse with the neighbor. If the neighbor is already in the recursion stack, a cycle is detected.\n",
    "            Upon detecting a cycle, traverse the recursion stack from the current node to the detected node to find all vertices in the cycle. Compute the maximum and minimum class numbers within this cycle \n",
    "            to calculate the difference.\n",
    "            Update the maximum difference if this cycle's difference is larger than the current maximum.\n",
    "            After exploring all neighbors, remove the current node from the recursion stack (before the recursive call returns).\n",
    "            \n",
    "            \n",
    "### Complexity Analysis\n",
    "\n",
    "Let $N$ be the number of courses and $M$ be the number of prerequisite relationships.\n",
    "\n",
    "**Graph Construction**: $O(N + M)$\n",
    "\n",
    "**DFS for Cycle Detection**: The DFS will visit each vertex and edge once in the worst case, giving a complexity of $O(N + M)$. The additional work to track the recursion stack and compute differences in class numbers does not change the overall complexity.\n"
   ]
  },
  {
   "cell_type": "markdown",
   "metadata": {},
   "source": [
    "## Testing your solutions -- Do not edit code beyond this point"
   ]
  },
  {
   "cell_type": "code",
   "execution_count": null,
   "metadata": {},
   "outputs": [],
   "source": []
  }
 ],
 "metadata": {
  "kernelspec": {
   "display_name": "Python 3 (ipykernel)",
   "language": "python",
   "name": "python3"
  },
  "language_info": {
   "codemirror_mode": {
    "name": "ipython",
    "version": 3
   },
   "file_extension": ".py",
   "mimetype": "text/x-python",
   "name": "python",
   "nbconvert_exporter": "python",
   "pygments_lexer": "ipython3",
   "version": "3.10.8"
  }
 },
 "nbformat": 4,
 "nbformat_minor": 4
}
