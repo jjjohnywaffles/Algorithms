{
 "cells": [
  {
   "cell_type": "markdown",
   "metadata": {
    "deletable": false,
    "editable": false,
    "nbgrader": {
     "checksum": "0e912d91fc43af4de0293c408025a668",
     "grade": false,
     "grade_id": "cell-127b1a833cb3b365",
     "locked": true,
     "schema_version": 1,
     "solution": false
    }
   },
   "source": [
    "# CSPB 3104 Assignment 8: Problem Set\n",
    "## Instructions\n",
    "\n",
    "> This assignment is to be completed and uploaded to \n",
    "moodle as a python3 notebook. \n",
    "\n",
    "> Submission deadlines are posted on moodle. \n",
    "\n",
    "> The questions  provided  below will ask you to either write code or \n",
    "write answers in the form of markdown.\n",
    "\n",
    "> Markdown syntax guide is here: [click here](https://github.com/adam-p/markdown-here/wiki/Markdown-Cheatsheet)\n",
    "\n",
    "> Using markdown you can typeset formulae using latex.\n",
    "\n",
    "> This way you can write nice readable answers with formulae like thus:\n",
    "\n",
    ">> The algorithm runs in time $\\Theta\\left(n^{2.1\\log_2(\\log_2( n \\log^*(n)))}\\right)$, \n",
    "wherein $\\log^*(n)$ is the inverse _Ackerman_ function.\n",
    "\n",
    "__Double click anywhere on this box to find out how your instructor typeset it. Press Shift+Enter to go back.__\n"
   ]
  },
  {
   "cell_type": "markdown",
   "metadata": {
    "deletable": false,
    "editable": false,
    "nbgrader": {
     "checksum": "bec909e672e3976357fa513c80c7c64a",
     "grade": false,
     "grade_id": "cell-b34e71ff2fc2e751",
     "locked": true,
     "schema_version": 1,
     "solution": false
    }
   },
   "source": [
    "----"
   ]
  },
  {
   "cell_type": "markdown",
   "metadata": {
    "deletable": false,
    "editable": false,
    "nbgrader": {
     "checksum": "27ae8cb5796bb77cc365e4e382b8019b",
     "grade": false,
     "grade_id": "cell-1945cd477b54f85c",
     "locked": true,
     "schema_version": 1,
     "solution": false
    }
   },
   "source": [
    "## Question 1: Shortest Cycle Involving a Given Node.\n",
    "\n",
    "You are given a directed graph $G: (V, E)$ using an adjacency list representation and a vertex (node) $u$ of the graph.\n",
    "Write an algorithm to perform the following tasks:\n",
    "\n",
    "__1(A)__ Write an algorithm that decides (true/false) whether the vertex $u$ belongs to a cycle.\n",
    "\n",
    "What is the complexity for your algorithm in terms of the number of vertices $|V|$ and the number of edges $|E|$?\n",
    "\n",
    "Note: Throughout this assignment you may describe your algorithms using words and definitely use algorithms that you have already learned in class. A brief description will do.\n"
   ]
  },
  {
   "cell_type": "code",
   "execution_count": null,
   "metadata": {},
   "outputs": [
    {
     "data": {
      "text/plain": [
       "True"
      ]
     },
     "execution_count": 3,
     "metadata": {},
     "output_type": "execute_result"
    }
   ],
   "source": [
    "def isNodeInCycle(graph, u):\n",
    "    def dfs(v):\n",
    "        visited[v] = True\n",
    "        recursionStack[v] = True\n",
    "        for neighbor in graph[v]:\n",
    "            if not visited[neighbor]:\n",
    "                if dfs(neighbor):\n",
    "                    return True\n",
    "            elif recursionStack[neighbor]:\n",
    "                return True\n",
    "        recursionStack[v] = False\n",
    "        return False\n",
    "\n",
    "    visited = [False] * len(graph)\n",
    "    recursionStack = [False] * len(graph)\n",
    "    return dfs(u)\n",
    "\n",
    "# test\n",
    "graph_example = {\n",
    "    0: [1],\n",
    "    1: [2],\n",
    "    2: [3, 4],\n",
    "    3: [0],\n",
    "    4: []\n",
    "}\n",
    "# Check if node 1 is in a cycle\n",
    "is_node_in_cycle = isNodeInCycle(graph_example, 1)\n",
    "is_node_in_cycle"
   ]
  },
  {
   "cell_type": "markdown",
   "metadata": {
    "deletable": false,
    "nbgrader": {
     "checksum": "0cf6dd299d41db50d3c7e78e3bb2fe2f",
     "grade": true,
     "grade_id": "cell-f62177827f9dd187",
     "locked": false,
     "points": 15,
     "schema_version": 1,
     "solution": true
    }
   },
   "source": [
    "### Initialization: \n",
    "    Start by marking all vertices as unvisited. Create a recursion stack that keeps track of the vertices in the current DFS path.\n",
    "\n",
    "### Depth-First Search (DFS): \n",
    "    Perform a DFS starting from the given vertex u. For each vertex v visited during the DFS, do the following:\n",
    "    Mark v as visited.\n",
    "    Add v to the recursion stack.\n",
    "    For each neighbor w of v, check:\n",
    "        If w is not visited, recursively perform DFS on w.\n",
    "        If w is already in the recursion stack, a cycle is found. Return true.\n",
    "    After exploring all neighbors of v, remove v from the recursion stack.\n",
    "\n",
    "### Cycle Detection: \n",
    "    If the DFS completes without finding any backedge as described above, then vertex u does not belong to any cycle. Otherwise, if a backedge is found during the DFS, u is part of a cycle.\n",
    "\n",
    "### Complexity Analysis\n",
    "\n",
    "### Time Complexity: \n",
    "    The algorithm visits each vertex once and explores each edge once in the worst case. Therefore, the time complexity is O(∣V∣+∣E∣), where ∣V∣ is the number of vertices and ∣E∣ is the number of edges in the graph.\n",
    "\n",
    "### Space Complexity: \n",
    "    The space complexity is O(∣V∣) due to the storage needed for the recursion stack and the visited vertices."
   ]
  },
  {
   "cell_type": "markdown",
   "metadata": {
    "deletable": false,
    "editable": false,
    "nbgrader": {
     "checksum": "886110138aee0e57218dd5b609150262",
     "grade": false,
     "grade_id": "cell-62c105704e7ed5fb",
     "locked": true,
     "schema_version": 1,
     "solution": false
    }
   },
   "source": [
    "__1(B)__ Write an algorithm which prints the smallest length cycle involving the vertex $u$.\n",
    "\n",
    "What is the complexity for your algorithm in terms of the number of vertices $|V|$ and the number of edges $|E|$?\n"
   ]
  },
  {
   "cell_type": "code",
   "execution_count": 5,
   "metadata": {},
   "outputs": [
    {
     "name": "stdout",
     "output_type": "stream",
     "text": [
      "2\n"
     ]
    }
   ],
   "source": [
    "from collections import deque\n",
    "\n",
    "def printSmallestCycleLength(graph, u):\n",
    "    def bfs(v):\n",
    "        # Initialize distances as infinity, except for the starting vertex v\n",
    "        distances = {vertex: float('inf') for vertex in graph}\n",
    "        distances[v] = 0\n",
    "        queue = deque([v])\n",
    "        \n",
    "        while queue:\n",
    "            current = queue.popleft()\n",
    "            for neighbor in graph[current]:\n",
    "                if distances[neighbor] == float('inf'):\n",
    "                    distances[neighbor] = distances[current] + 1\n",
    "                    queue.append(neighbor)\n",
    "                # If we reach u, return the cycle length\n",
    "                if neighbor == u and current != u:  # Ensure we don't count the starting vertex itself\n",
    "                    return distances[current] + 1  # +1 to include the edge from current to u\n",
    "        return float('inf')  \n",
    "    \n",
    "    min_cycle_length = float('inf')\n",
    "    for neighbor in graph[u]:  # Start BFS from each neighbor of u\n",
    "        cycle_length = bfs(neighbor)\n",
    "        min_cycle_length = min(min_cycle_length, cycle_length)\n",
    "    \n",
    "    if min_cycle_length == float('inf'):\n",
    "        print(\"None\", u) # No cycle\n",
    "    else: \n",
    "        print(min_cycle_length) # Return smallest cycle\n",
    "\n",
    "# test\n",
    "graph_example = {\n",
    "    0: [1],\n",
    "    1: [2],\n",
    "    2: [0, 3], \n",
    "    3: [1]\n",
    "}\n",
    "\n",
    "# Find and print the smallest length cycle involving node 1\n",
    "printSmallestCycleLength(graph_example, 1)"
   ]
  },
  {
   "cell_type": "markdown",
   "metadata": {
    "deletable": false,
    "nbgrader": {
     "checksum": "819b4c2261a0b0f3d19d8829a5efa46c",
     "grade": true,
     "grade_id": "cell-1c7b2a45df2ec8ca",
     "locked": false,
     "points": 15,
     "schema_version": 1,
     "solution": true
    }
   },
   "source": [
    "### Initialization: \n",
    "    For each neighbor v of u, do the following steps. The goal is to find the shortest path from v back to u, which along with the edge from u to v, forms a cycle.\n",
    "\n",
    "### Breadth-First Search (BFS):\n",
    "    For each neighbor v of u, initiate a BFS, but with a modification to track the path length.\n",
    "    Maintain a queue to manage the BFS frontier and a dictionary or array to keep track of distances from v.\n",
    "    Initialize the distance for all vertices as \"infinity\", except for v which is set to 0.\n",
    "    As you explore the graph from vv, update the distance for each newly visited vertex as the distance of its predecessor plus one.\n",
    "    If you reach u during the BFS from any neighbor v, you have found a cycle. The length of this cycle is the distance from v to u plus one.\n",
    "\n",
    "### Finding the Shortest Cycle:\n",
    "    Repeat the BFS for every neighbor v of u, and keep track of the minimum cycle length found.\n",
    "    After completing the BFS from all neighbors of u, the minimum cycle length recorded is the length of the shortest cycle involving u.\n",
    "    Print the shortest cycle length found.\n",
    "\n",
    "### Complexity Analysis\n",
    "\n",
    "### Time Complexity: \n",
    "    For each neighbor of uu, a BFS is performed which can explore all vertices and edges in the worst case. If u has d neighbors, and considering the worst case where the BFS from each neighbor explores the entire graph, the time complexity is O(d⋅(∣V∣+∣E∣)). However, since in the worst case, d can be O(∣V∣), this simplifies to O(∣V∣⋅(∣V∣+∣E∣)).\n",
    "\n",
    "### Space Complexity: \n",
    "    The space complexity is O(∣V∣) due to the storage needed for the BFS queue, the distances, and the visited status of the nodes."
   ]
  },
  {
   "cell_type": "markdown",
   "metadata": {
    "deletable": false,
    "editable": false,
    "nbgrader": {
     "checksum": "b4154440aa7853b85560ef2a595a8212",
     "grade": false,
     "grade_id": "cell-a40c85c43d85c203",
     "locked": true,
     "schema_version": 1,
     "solution": false
    }
   },
   "source": [
    "----"
   ]
  },
  {
   "cell_type": "markdown",
   "metadata": {
    "deletable": false,
    "editable": false,
    "nbgrader": {
     "checksum": "5094817e04e8fc96af1a6acc77207723",
     "grade": false,
     "grade_id": "cell-5b55e83496f8700c",
     "locked": true,
     "schema_version": 1,
     "solution": false
    }
   },
   "source": [
    "## Question 2: Tracing an Epidemic\n",
    "\n",
    "An email with a malicious attachment has evaded the antivirus software of company X.\n",
    "We know that the CEO's computer was infected during a business trip last month. Since then,investigators have \n",
    "been trying to determine whose mailboxes could be infected. For an employee's mailbox to be infected, he or she must have received\n",
    "and read  an email sent by an already affected employee. \n",
    "\n",
    "Starting from the time $0$ denoting when the CEO's mailbox was first infected, investigators have \"metadata\" for all\n",
    "the emails from all employees in the form\n",
    "\n",
    "$(P_i, P_j, t_k, t_l)$ meaning that employee $P_i$ sent an email at time $t_k$ to employee $P_j$, and $P_j$ opened the email at\n",
    "time $t_l > t_k$.  We assume that $P_j$'s mailbox is infected instantaneously at time $t_l$ if $P_i$'s mailbox was infected before time $t_k$. \n",
    "\n",
    "You are given a collection of email records in the form given above, and  you know that person $P_0$ is the CEO who was infected at time $t = 0$.\n",
    "\n",
    "we ask if a given person of interest $P_j$ could have been infected at a given time of interest $t = T$.\n",
    "\n",
    "__2(A)__ Write an algorithm that, given a person $P_j$ and time $T$, determines if $P_j$'s mailbox was infected before or at time $T$. What is the worst case complexity of your algorithm in terms of the number of persons $|P|$,  and the number of emails sent $|E|$.\n",
    "\n",
    "**Hint** You need to first make a graph that represents the possible flow of the \"infection\" through emails. It is easier to make a complicated graph (in this case, one where each vertex represents more than just a person) and then run a simple graph algorithm (one of the vanilla algorithms we learned this week, ie BFS/DFS/Topological sort) rather than making a simple graph and running a complicated ad-hoc algorithm on it (If your algorithm requires table lookups or passing on metadata specific to the problem at hand, it's probably too complicated).  "
   ]
  },
  {
   "cell_type": "code",
   "execution_count": 6,
   "metadata": {},
   "outputs": [
    {
     "data": {
      "text/plain": [
       "False"
      ]
     },
     "execution_count": 6,
     "metadata": {},
     "output_type": "execute_result"
    }
   ],
   "source": [
    "from collections import deque\n",
    "\n",
    "def can_infect(email_records, ceo, target, time_T):\n",
    "    # Graph Construction\n",
    "    graph = {} \n",
    "    graph[(ceo, 0)] = []\n",
    "    \n",
    "    for sender, receiver, send_time, open_time in email_records:\n",
    "        if open_time > send_time:\n",
    "            if (sender, send_time) not in graph:\n",
    "                graph[(sender, send_time)] = []\n",
    "            if (receiver, open_time) not in graph:\n",
    "                graph[(receiver, open_time)] = []\n",
    "            graph[(sender, send_time)].append((receiver, open_time))\n",
    "\n",
    "    # BFS\n",
    "    infected = set() \n",
    "    queue = deque([(ceo, 0)])\n",
    "    \n",
    "    while queue:\n",
    "        current_person, current_time = queue.popleft()\n",
    "        infected.add((current_person, current_time))\n",
    "        \n",
    "        # Visit all neighboring states\n",
    "        for neighbor in graph.get((current_person, current_time), []):\n",
    "            if neighbor not in infected:\n",
    "                queue.append(neighbor)\n",
    "    return any(time <= time_T for (person, time) in infected if person == target)\n",
    "\n",
    "# test\n",
    "email_records = [\n",
    "    # (Sender, Receiver, Send Time, Open Time)\n",
    "    ('CEO', 'A', 1, 2),\n",
    "    ('A', 'B', 3, 4),\n",
    "    ('B', 'Target', 5, 6)\n",
    "]\n",
    "ceo = 'CEO'\n",
    "target = 'Target'\n",
    "time_T = 6\n",
    "\n",
    "can_infect(email_records, ceo, target, time_T)"
   ]
  },
  {
   "cell_type": "markdown",
   "metadata": {
    "deletable": false,
    "nbgrader": {
     "checksum": "7dc1b3d1657885260248e1aac7806a94",
     "grade": true,
     "grade_id": "cell-ca4da08b8011560d",
     "locked": false,
     "points": 15,
     "schema_version": 1,
     "solution": true
    }
   },
   "source": [
    "### Graph Construction:\n",
    "Create vertices for each state, represented as a tuple $(P_i,t)$, where $P_i$ is an employee, and $t$ is the time at which their mailbox could potentially become infected. Include a vertex for the CEO at time $t=0$.\n",
    "\n",
    "For each email record $(P_i,P_j,t_k,t_l)$, create an edge from $(P_i,t_k)$ to $(P_j,t_l)$ if $t_l>t_k$. This represents the potential transmission of the infection.\n",
    "\n",
    "Ensure to include edges that represent the progression of time for an individual's mailbox without receiving any email, which allows the infection to persist over time.\n",
    "\n",
    "### Graph Traversal (BFS or DFS):\n",
    "Perform a Breadth-First Search (BFS) or Depth-First Search (DFS) starting from the vertex representing the CEO's infection at time $t=0$.\n",
    "\n",
    "During the traversal, mark each visited vertex as infected.\n",
    "\n",
    "### Infection Check:\n",
    "After the traversal, check if there exists a vertex for $P_j$ at time $T′$ such that $T′≤T$. If such a vertex is marked as infected, then $P_j$'s mailbox was infected before or at time $T$.\n",
    "\n",
    "### Complexity Analysis\n",
    "\n",
    "### Time Complexity: \n",
    "Let $∣P∣$ be the number of persons and $∣E∣$ be the number of emails sent. The graph could potentially have $O(∣E∣)$ vertices and $O(∣E∣)$ edges, since each email could introduce a new vertex and an edge. \n",
    "\n",
    "The time complexity of BFS/DFS in such a graph is $O(∣V∣+∣E∣)$, where $∣V∣$ is the number of vertices. Thus, the worst-case time complexity is $O(∣E∣)$.\n",
    "\n",
    "### Space Complexity: \n",
    "The space complexity is also $O(∣E∣)$ due to the storage of the graph."
   ]
  },
  {
   "cell_type": "markdown",
   "metadata": {
    "deletable": false,
    "editable": false,
    "nbgrader": {
     "checksum": "44ca5f2c62e15d7e23c315161b8c5c16",
     "grade": false,
     "grade_id": "cell-ea8e4613fd3a0ecc",
     "locked": true,
     "schema_version": 1,
     "solution": false
    }
   },
   "source": [
    "__2(B)__ Write an algorithm that prints out each person who is infected in increasing order of the times in which they\n",
    "first got infected.\n"
   ]
  },
  {
   "cell_type": "code",
   "execution_count": 7,
   "metadata": {},
   "outputs": [
    {
     "name": "stdout",
     "output_type": "stream",
     "text": [
      "CEO was first infected at time 0\n"
     ]
    }
   ],
   "source": [
    "def print_infected_in_order(email_records, ceo):\n",
    "    graph = {}\n",
    "    graph[(ceo, 0)] = []\n",
    "    infection_time = {ceo: 0} \n",
    "\n",
    "    for sender, receiver, send_time, open_time in email_records:\n",
    "        if open_time > send_time:\n",
    "            if (sender, send_time) not in graph:\n",
    "                graph[(sender, send_time)] = []\n",
    "            if (receiver, open_time) not in graph:\n",
    "                graph[(receiver, open_time)] = []\n",
    "            graph[(sender, send_time)].append((receiver, open_time))\n",
    "\n",
    "    queue = deque([(ceo, 0)])\n",
    "    while queue:\n",
    "        current_person, current_time = queue.popleft()\n",
    "        for neighbor, infection_time in graph.get((current_person, current_time), []):\n",
    "            if neighbor not in infection_time or infection_time[neighbor] > infection_time:\n",
    "                infection_time[neighbor] = infection_time  # Update with the earliest infection time\n",
    "                queue.append((neighbor, infection_time))\n",
    "\n",
    "    for person, time in sorted(infection_time.items(), key=lambda x: x[1]):\n",
    "        print(f\"{person} was first infected at time {time}\")\n",
    "\n",
    "# Test\n",
    "email_records = [\n",
    "    ('CEO', 'A', 1, 2),\n",
    "    ('A', 'B', 3, 4),\n",
    "    ('B', 'C', 5, 6),\n",
    "    ('C', 'D', 7, 8)\n",
    "]\n",
    "ceo = 'CEO'\n",
    "\n",
    "print_infected_in_order(email_records, ceo)"
   ]
  },
  {
   "cell_type": "markdown",
   "metadata": {
    "deletable": false,
    "nbgrader": {
     "checksum": "7ee04073478778baf66d029d0575febf",
     "grade": true,
     "grade_id": "cell-e854214ca7571bd4",
     "locked": false,
     "points": 15,
     "schema_version": 1,
     "solution": true
    }
   },
   "source": [
    "### Graph Construction: \n",
    "    Create a graph representing potential infection transmissions based on the email metadata.\n",
    "\n",
    "### Graph Traversal: \n",
    "    Perform a BFS starting from the CEO's initial infection at time t=0, marking each visited state as infected and tracking the earliest time each person got infected.\n",
    "\n",
    "### Tracking Infection Times: \n",
    "    Maintain a dictionary to record the earliest time each person got infected. Update this dictionary during the BFS traversal.\n",
    "\n",
    "### Sorting and Printing: \n",
    "    After the traversal, sort the individuals by their first infection time and print them in order."
   ]
  },
  {
   "cell_type": "markdown",
   "metadata": {
    "deletable": false,
    "editable": false,
    "nbgrader": {
     "checksum": "5463ccc822ea257abab616b1ed295b3d",
     "grade": false,
     "grade_id": "cell-bbbaebd54182a91b",
     "locked": true,
     "schema_version": 1,
     "solution": false
    }
   },
   "source": [
    "----"
   ]
  },
  {
   "cell_type": "markdown",
   "metadata": {
    "deletable": false,
    "editable": false,
    "nbgrader": {
     "checksum": "1c292ea1a4ed3fab4f484d8cb4fdcd5b",
     "grade": false,
     "grade_id": "cell-5476b9fe46e69f6b",
     "locked": true,
     "schema_version": 1,
     "solution": false
    }
   },
   "source": [
    "## Question 3: Testing Moth Age Expert\n",
    "\n",
    "A person claims to have spent his life studying the emperor gum moth  *Opodiphthera eucalypti*. \n",
    "Given two moth samples, he claims to tell us which one is the older. Of course, \n",
    "we ourselves are no experts and they all in fact look the same to us.\n",
    "\n",
    "\n",
    "We test the person as follows: (a) collect a large number $n$ of e.g. moth specimen; (b) randomly\n",
    "select $m$ different pairs from our collection and have the person tell us which one is older; \n",
    "(c) record their answers and analyze them to see if they are _consistent_\n",
    "\n",
    "Write an algorithm to detect if the \"expert\" opinions are _consistent_. \n",
    "\n",
    "\n",
    "**Hint:** We have refrained from discussing what consistency means in this case. But can provide you an example as a hint.\n",
    "\n",
    "__Example__ \n",
    "\n",
    "Suppose $n= 4$ and the expert says that\n",
    "\n",
    "Specimen \\# $1$ is older than $2$, $3$ is older than $4$, $4$ is older than $2$ and $2$ is older\n",
    "than $3$.\n",
    "\n",
    "The expert's opinion is clearly *inconsistent*.\n",
    "\n",
    "Suppose $n=4$ and the expert says that\n",
    "\n",
    "Specimen \\# $1$ is older than $2$, $3$ is older than $4$ and $4$ is older than $1$. The\n",
    "expert's answer is *consistent*.\n",
    "\n"
   ]
  },
  {
   "cell_type": "markdown",
   "metadata": {
    "deletable": false,
    "nbgrader": {
     "checksum": "838f173066756cd41eafb0e4fbfcda57",
     "grade": true,
     "grade_id": "cell-0ae64f4d37077c7a",
     "locked": false,
     "points": 20,
     "schema_version": 1,
     "solution": true
    }
   },
   "source": [
    "----\n",
    "Initialize a directed graph with nodes representing each of the 𝑛 moth specimens.\n",
    "\n",
    "For each pair comparison provided by the expert, add a directed edge from the older moth to the younger moth.\n",
    "\n",
    "Check for cycles in the graph. If there is any cycle, the expert's opinions are inconsistent. Otherwise, they are consistent.\n",
    "\n",
    "This problem can be efficiently solved using a graph traversal algorithm to detect cycles, such as Depth-First Search (DFS). \n",
    "\n",
    "For each node in the graph:\n",
    "\n",
    "If the node has not been visited, perform a DFS from that node.\n",
    "\n",
    "If you encounter a node that is already being visited (i.e., it's in the call stack), a cycle is found, indicating inconsistency.\n",
    "    \n",
    "If no cycle is found after DFS on all nodes, the expert's opinions are consistent."
   ]
  },
  {
   "cell_type": "code",
   "execution_count": 1,
   "metadata": {},
   "outputs": [
    {
     "name": "stdout",
     "output_type": "stream",
     "text": [
      "True\n"
     ]
    }
   ],
   "source": [
    "from collections import defaultdict\n",
    "\n",
    "def dfs(graph, node, visited, recStack):\n",
    "    visited[node] = True\n",
    "    recStack[node] = True\n",
    "    \n",
    "    # For every neighbour of the current node\n",
    "    for neighbour in graph[node]:\n",
    "        # If the neighbour is not visited, then recurse on it\n",
    "        if not visited[neighbour]:\n",
    "            if dfs(graph, neighbour, visited, recStack):\n",
    "                return True\n",
    "        # If the neighbour is visited and in the recursion stack, then we have a cycle\n",
    "        elif recStack[neighbour]:\n",
    "            return True\n",
    "    \n",
    "    # Remove the node from recursion stack before returning\n",
    "    recStack[node] = False\n",
    "    return False\n",
    "\n",
    "def check_consistency(n, comparisons):\n",
    "    graph = defaultdict(list)\n",
    "    for older, younger in comparisons:\n",
    "        graph[older].append(younger)\n",
    "    \n",
    "    # Initialize visited and recursion stack arrays\n",
    "    visited = [False] * n\n",
    "    recStack = [False] * n\n",
    "    \n",
    "    # Perform DFS from each unvisited node to detect cycles\n",
    "    for node in range(n):\n",
    "        if not visited[node]:\n",
    "            if dfs(graph, node, visited, recStack):\n",
    "                return False  # Inconsistent (cycle detected)\n",
    "    \n",
    "    return True  # Consistent (no cycles)\n",
    "\n",
    "# Test\n",
    "n = 4  # Number of nodes\n",
    "comparisons = [(0, 1), (1, 2), (2, 3)] \n",
    "print(check_consistency(n, comparisons))"
   ]
  },
  {
   "cell_type": "markdown",
   "metadata": {
    "deletable": false,
    "editable": false,
    "nbgrader": {
     "checksum": "971c10d1b1e963ad625846abddc60f97",
     "grade": false,
     "grade_id": "cell-4e1b94d22bdd769d",
     "locked": true,
     "schema_version": 1,
     "solution": false
    }
   },
   "source": [
    "----"
   ]
  },
  {
   "cell_type": "markdown",
   "metadata": {
    "deletable": false,
    "editable": false,
    "nbgrader": {
     "checksum": "9ec4d44f30e520be55507d66b8c1e5d0",
     "grade": false,
     "grade_id": "cell-73a95ac75b7272e1",
     "locked": true,
     "schema_version": 1,
     "solution": false
    }
   },
   "source": [
    "## Question 4: Testing if an undirected graph is acyclic\n",
    "\n",
    "You are given a strongly connected, undirected graph $G$ with $n$ vertices as an adjacency list. Write an algorithm to check if $G$ has a cycle that runs in time $\\Theta(n)$.\n",
    "\n",
    "*Hint* A connected, undirected acyclic graph is a tree. Since you are already given that $G$ is connected, you are just checking if $G$ is a tree. How many edges would a tree have?\n"
   ]
  },
  {
   "cell_type": "markdown",
   "metadata": {
    "deletable": false,
    "nbgrader": {
     "checksum": "ff16477da1925d3c9c70c0b5b4234ae7",
     "grade": true,
     "grade_id": "cell-68cb53d23a2a9ba5",
     "locked": false,
     "points": 20,
     "schema_version": 1,
     "solution": true
    }
   },
   "source": [
    "----\n",
    "To test if a connected, undirected graph G with n vertices is acyclic (i.e., is a tree), we can follow a simple principle: a tree with n vertices always has exactly n−1 edges. This characteristic arises because adding any additional edge to a tree would create a cycle, making it no longer a tree.\n",
    "\n",
    "Given G is connected, to check if G is a tree (acyclic), we need to:\n",
    "\n",
    "    Verify that the number of edges is exactly n−1.\n",
    "    Ensure there are no cycles.\n",
    "    \n",
    "We will also focus on counting the edges and ensuring there are exactly n−1 of them for G to be considered a tree.\n",
    "\n",
    "### Algorithm\n",
    "\n",
    "Count the total number of edges in the graph. Since it's an undirected graph represented by an adjacency list, each edge will be counted twice (once for each end), so the total edge count needs to be divided by 2.\n",
    "\n",
    "If the total number of edges equals n−1, then the graph is a tree. Otherwise, it contains a cycle."
   ]
  },
  {
   "cell_type": "code",
   "execution_count": 2,
   "metadata": {},
   "outputs": [
    {
     "name": "stdout",
     "output_type": "stream",
     "text": [
      "False\n"
     ]
    }
   ],
   "source": [
    "def is_tree(adj_list):\n",
    "    # Calculate the number of vertices\n",
    "    n = len(adj_list)\n",
    "    \n",
    "    # Count edges\n",
    "    edge_count = sum(len(neighbors) for neighbors in adj_list) // 2\n",
    "    \n",
    "    # A tree with n vertices has exactly n-1 edges\n",
    "    return edge_count == n - 1\n",
    "\n",
    "# Test\n",
    "adj_list = [[1, 2], [0, 2], [0, 1]]  # Example adjacency list for a graph with 3 vertices and 3 edges\n",
    "print(is_tree(adj_list))  # This would return False since a tree with 3 vertices should have exactly 2 edges"
   ]
  },
  {
   "cell_type": "code",
   "execution_count": null,
   "metadata": {},
   "outputs": [],
   "source": []
  }
 ],
 "metadata": {
  "kernelspec": {
   "display_name": "Python 3 (ipykernel)",
   "language": "python",
   "name": "python3"
  },
  "language_info": {
   "codemirror_mode": {
    "name": "ipython",
    "version": 3
   },
   "file_extension": ".py",
   "mimetype": "text/x-python",
   "name": "python",
   "nbconvert_exporter": "python",
   "pygments_lexer": "ipython3",
   "version": "3.10.8"
  }
 },
 "nbformat": 4,
 "nbformat_minor": 4
}
