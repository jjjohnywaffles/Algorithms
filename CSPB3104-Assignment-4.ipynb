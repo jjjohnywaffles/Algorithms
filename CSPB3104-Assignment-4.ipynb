{
 "cells": [
  {
   "cell_type": "markdown",
   "metadata": {
    "deletable": false,
    "editable": false,
    "nbgrader": {
     "checksum": "6f67ee2b1e65e1f08882d5c311a652b5",
     "grade": false,
     "grade_id": "cell-cc92243d53530a68",
     "locked": true,
     "schema_version": 1,
     "solution": false
    }
   },
   "source": [
    "# CSPB 3104 Assignment 4:"
   ]
  },
  {
   "cell_type": "markdown",
   "metadata": {
    "deletable": false,
    "editable": false,
    "nbgrader": {
     "checksum": "393de84110c62844ccd1caec4398ed3c",
     "grade": false,
     "grade_id": "cell-d39a5349c12a82ad",
     "locked": true,
     "schema_version": 1,
     "solution": false
    }
   },
   "source": [
    "***\n",
    "# Instructions\n",
    "\n",
    "This assignment is to be completed as a python3 notebook.  When you upload, please upload the completed notebook (ipynb file).\n",
    "\n",
    "The questions  provided  below will ask you to either write code or \n",
    "write answers in the form of markdown.\n",
    "\n",
    " Markdown syntax guide is here: [click here](https://github.com/adam-p/markdown-here/wiki/Markdown-Cheatsheet)\n",
    "\n",
    "Using markdown you can typeset formulae using latex.\n",
    "This way you can write nice readable answers with formulae like thus:\n",
    "\n",
    "The algorithm runs in time $\\Theta\\left(n^{2.1\\log_2(\\log_2( n \\log^*(n)))}\\right)$, \n",
    "where $\\log^*(n)$ is the inverse _Ackerman_ function.\n",
    "\n",
    "__Double click anywhere on this box to find out how your instructor typeset it. Press Shift+Enter to go back.__\n",
    "\n",
    "***"
   ]
  },
  {
   "cell_type": "markdown",
   "metadata": {
    "deletable": false,
    "editable": false,
    "nbgrader": {
     "checksum": "871eb541c1d418aa4f1ca4c48aa520fc",
     "grade": false,
     "grade_id": "cell-b993b6aab5013b9e",
     "locked": true,
     "schema_version": 1,
     "solution": false
    }
   },
   "source": [
    "## Question 1\n",
    "\n",
    "\n",
    "\n",
    " Your professor has the brilliant idea of using heaps to select the pivot in the quicksort algorithm as follows:\n",
    "   - Heapify the array $a$.\n",
    "   - Choose a leaf element at random  (i.e, an element in $A[\\lceil \\frac{n}{2} \\rceil ] , \\ldots, A[n]$ ) and use it as a pivot.\n",
    "   - Apply Lomuto's partitioning. \n",
    "\n",
    " If this scheme is used in quicksort, what is the __worst case__ complexity of the resulting algorithm?\n",
    "\n",
    "\n",
    "\n",
    "\n",
    "\n"
   ]
  },
  {
   "cell_type": "markdown",
   "metadata": {
    "deletable": false,
    "nbgrader": {
     "checksum": "7a0d1bd1b9396d994f9b44351f006422",
     "grade": true,
     "grade_id": "cell-500eb5d207ef0ea0",
     "locked": false,
     "points": 10,
     "schema_version": 1,
     "solution": true
    }
   },
   "source": [
    "Heapify Operation: Heapify operation takes $O(n)$ time complexity, where $n$ is the number of elements in the array.\n",
    "\n",
    "Choosing a Leaf Element: Choosing a leaf element from the heap can be done in constant time once the heap is constructed.\n",
    "\n",
    "Lomuto's Partitioning: Lomuto's partitioning has a worst-case time complexity of $O(n)$, where $n$ is the number of elements in the array.\n",
    "\n",
    "In the worst-case scenario, the chosen pivot is either the smallest or largest element in the array. If this happens consistently during each partitioning step, the quicksort algorithm will exhibit its worst-case time complexity of $O(n^2)$."
   ]
  },
  {
   "cell_type": "markdown",
   "metadata": {
    "deletable": false,
    "editable": false,
    "nbgrader": {
     "checksum": "4710b959a700f0ccd99a5d7f48b222dd",
     "grade": false,
     "grade_id": "cell-66179a16152d8275",
     "locked": true,
     "schema_version": 1,
     "solution": false
    }
   },
   "source": [
    "---\n",
    "## Question 2a: Move Negatives To Left\n",
    "\n",
    " You are given an input array $a$ with negative and positive numbers. Write an algorithm that partitions the array so that the negative numbers are moved to the left hand side and positive numbers to the right hand side. However, the relative ordering between the negative numbers should not be altered. However you may alter the ordering amongst the positive numbers.\n",
    "\n",
    "\n",
    "\n",
    " Input: array a with positive and negative numbers. Size = n. \n",
    "\n",
    " Output: partitioned array a, index j such that $a[0], \\ldots, a[j-1]$ are negative and $a[j], \\ldots, a[n-1]$ are positive.\n",
    "\n",
    " Note since arrays are passed by reference in python, you just need to return j\n",
    "\n",
    " Constraints: must be done in place. Relative ordering between negative elements unchanged.\n",
    "\n",
    " Example: \n",
    "\n",
    " Input array a = [-2, 3, -1, 4, 5, -3, -4, -1, -2, 5]\n",
    "\n",
    " Output array a = [-2, -1, -3, -4, -1, -2, 3, 5, 5, 4]\n",
    "\n",
    " Output       j = 6\n"
   ]
  },
  {
   "cell_type": "code",
   "execution_count": 5,
   "metadata": {
    "deletable": false,
    "nbgrader": {
     "checksum": "d6fae7679d26ede07ed374a9d2c94599",
     "grade": false,
     "grade_id": "cell-4ba49cfbe820eb9b",
     "locked": false,
     "schema_version": 1,
     "solution": true
    }
   },
   "outputs": [],
   "source": [
    "def move_negatives_to_left(a):\n",
    "    n = len(a)\n",
    "    left = 0  \n",
    "\n",
    "    for i in range(n):\n",
    "        if a[i] < 0:\n",
    "            # Swap the current element with the element at the left pointer\n",
    "            a[i], a[left] = a[left], a[i]\n",
    "            left += 1  # Move the left pointer one step to the right\n",
    "\n",
    "    return left\n",
    "    raise NotImplementedError()\n"
   ]
  },
  {
   "cell_type": "markdown",
   "metadata": {
    "deletable": false,
    "editable": false,
    "nbgrader": {
     "checksum": "150d909c5bc1552a87cd78f810c7dba1",
     "grade": false,
     "grade_id": "cell-2fbd90a2db572ce6",
     "locked": true,
     "schema_version": 1,
     "solution": false
    }
   },
   "source": [
    "__2(b):__ Give the running time of your solution and briefly explain the logic by clearly writing down\n",
    "the loop invariants that hold during the operation of your algorithm and why these invariants lead to the correct result."
   ]
  },
  {
   "cell_type": "markdown",
   "metadata": {
    "deletable": false,
    "nbgrader": {
     "checksum": "59b9d35f8704d91a3470203654397281",
     "grade": true,
     "grade_id": "cell-b02c0f60558db791",
     "locked": false,
     "points": 10,
     "schema_version": 1,
     "solution": true
    }
   },
   "source": [
    "The running time of the provided solution is $O(n)$, where $n$ is the size of the input array $a$.\n",
    "\n",
    "The algorithm maintains two pointers: left and i. The left pointer keeps track of the position where the next negative number should be placed, and the i pointer iterates through the array.\n",
    "\n",
    "### Loop Invariants:\n",
    "At the beginning of each iteration of the loop, all elements to the left of the left pointer are negative numbers, and all elements between the left pointer and the i pointer (exclusive) are positive numbers or elements that haven't been processed yet.\n",
    "\n",
    "The left pointer points to the next position where a negative number should be placed. All elements to the left of the left pointer (including the left pointer itself) are negative numbers.\n",
    "\n",
    "The i pointer points to the next element to be processed. All elements to the left of the i pointer (inclusive) have been processed, and their relative ordering is maintained according to the original array.\n",
    "\n",
    "### Explanation of Correctness:\n",
    "When the algorithm encounters a negative number at index i, it swaps the negative number with the element at the left pointer. This ensures that the negative number is moved to the left side of the array, and the left pointer is incremented to the next position.\n",
    "\n",
    "By following the loop invariants, the algorithm correctly partitions the array such that all negative numbers are moved to the left side, maintaining their original relative ordering, while positive numbers are placed on the right side.\n",
    "\n",
    "Once the loop terminates, the left pointer indicates the starting index of positive numbers in the array. Thus, the function returns the left pointer, providing the desired partitioning index."
   ]
  },
  {
   "cell_type": "markdown",
   "metadata": {
    "deletable": false,
    "editable": false,
    "nbgrader": {
     "checksum": "d72dd1ee9cd4118e152d6bee038b8fb1",
     "grade": false,
     "grade_id": "cell-a8636f88e42a5631",
     "locked": true,
     "schema_version": 1,
     "solution": false
    }
   },
   "source": [
    "---\n",
    "## Question 3: Median of Median Selection.\n",
    "\n",
    " In the class, we analyzed an approach for pivot selection that used median of 5 medians.  Here we explore what happens\n",
    "with median of 3 medians.\n",
    "\n",
    " 1. Divide the input array $a$ of size n into $\\frac{n}{3}$ groups of $3$ elements each.\n",
    " 2. Calculate the median of each group of 3 to create a new array $\\hat{a}$ of these medians.\n",
    " 3. Recursively apply the algorithm to find the median of $\\hat{a}$. Let it be $m$.\n",
    " 4. Use $m$ as the pivot element to partition the original array $a$.\n",
    "\n",
    "__3(a)__ How many elements in the array $a$ are guaranteed to be less than the chosen pivot $m$? How many are guaranteed to be greater? Assume all elements in the array $a$ are distinct.\n",
    "\n",
    "\n",
    "\n",
    "\n",
    "\n",
    "\n",
    "\n",
    "\n",
    "\n"
   ]
  },
  {
   "cell_type": "markdown",
   "metadata": {
    "deletable": false,
    "nbgrader": {
     "checksum": "2a78c83e499a1f89c214f7cfee63d608",
     "grade": true,
     "grade_id": "cell-21d980b003edcd7a",
     "locked": false,
     "points": 10,
     "schema_version": 1,
     "solution": true
    },
    "tags": []
   },
   "source": [
    "### Less Than $m$:\n",
    "\n",
    "At least half of the elements in $\\hat{a}$ are less than $m$ (since $m$ is the median of $\\hat{a}$). Therefore, at least half of the groups of 3 elements have their medians less than $m$.\n",
    "\n",
    "Each group contributes one element that is less than $m$ (the median of the group). So at least half of the original array $a$ will have elements less than $m$.\n",
    "\n",
    "### Greater Than $m$:\n",
    "\n",
    "Similarly, at least half of the elements in $\\hat{a}$ are greater than $m$ (since $m$ is the median of $\\hat{a}$).\n",
    "\n",
    "Each group contributes one element that is greater than $m$ (the median of the group). So at least half of the original array $a$ will have elements greater than $m$.\n",
    "\n",
    "Therefore, we can conclude that at least $\\frac{n}{2}$ elements in the array $a$ are guaranteed to be less than the chosen pivot $m$, and at least $\\frac{n}{2}$ elements are guaranteed to be greater than $m$."
   ]
  },
  {
   "cell_type": "markdown",
   "metadata": {},
   "source": [
    "### 3a solution\n",
    "\n",
    "When calculating the median of each group of 3 elements, for each group, at least one element must be less than or equal to the median, and at least one element must be greater than or equal to the median. This is because the median is the element that separates the group into two halves.\n",
    "\n",
    "So, in the array $\\hat{a}$, at least half of the elements are less than or equal to $m$, and at least half of the elements are greater than or equal to $m$.\n",
    "\n",
    "When $m$ is chosen as the pivot, in the original array $a$, all elements less than $m$ will be on one side, and all elements greater than $m$ will be on the other side.\n",
    "\n",
    "Therefore, $\\frac{n}{2}$ elements in the array $a$ are guaranteed to be less than the chosen pivot $m$, and $\\frac{n}{2}$ elements are guaranteed to be greater than the chosen pivot $m$."
   ]
  },
  {
   "cell_type": "markdown",
   "metadata": {
    "deletable": false,
    "editable": false,
    "nbgrader": {
     "checksum": "66052be2bee3b65fe2993ce8c7b2de0a",
     "grade": false,
     "grade_id": "cell-1807a9189d3a49c9",
     "locked": true,
     "schema_version": 1,
     "solution": false
    }
   },
   "source": [
    " __3(b)__ If $m$ computed using the median of 3 medians were used to partition the array $a$ for a *quickselect* algorithm that is used to find the median of an array $a$, write down the recurrence for $T(n)$, the time taken to find the median of an array of size $n$ using the quick select algorithm with the median of 3 medians trick.\n"
   ]
  },
  {
   "cell_type": "markdown",
   "metadata": {
    "deletable": false,
    "nbgrader": {
     "checksum": "7ab57e89295273cbfa3b7520d5bde5ce",
     "grade": true,
     "grade_id": "cell-c816d4e898ab76d5",
     "locked": false,
     "points": 10,
     "schema_version": 1,
     "solution": true
    }
   },
   "source": [
    "Splitting the array into groups of 3 elements and finding the medians of these groups takes linear time, $O(n)$.\n",
    "\n",
    "Finding the median of $\\hat{a}$ recursively takes $T(\\frac{n}{3})$ time.\n",
    "\n",
    "Partitioning the original array $a$ around the median of 3 medians $m$ takes linear time, $O(n)$.\n",
    "\n",
    "The size of the array reduces by a factor of $\\frac{2}{3}$ (on average) after partitioning because we discard one-third of the elements in the worst-case scenario.\n",
    "\n",
    "$T(n)$ = $O(n)$ + $T(\\frac{n}{3})$ + $T(\\frac{2n}{3})$"
   ]
  },
  {
   "cell_type": "markdown",
   "metadata": {
    "deletable": false,
    "editable": false,
    "nbgrader": {
     "checksum": "4e2e52cb59d005186f422b8a4d67a3b5",
     "grade": false,
     "grade_id": "cell-9c62273ea26b5433",
     "locked": true,
     "schema_version": 1,
     "solution": false
    }
   },
   "source": [
    " __3(c)__ The celebrated \"Akra-Bazzi\" method shows that the recurrence $S(n) = S(\\alpha n) + S( (1-\\alpha)n) + \\Theta(n)$ with base case $S(1) = \\Theta(1)$ has solution $S(n) = \\Theta(n \\log (n) )$. Use this to show that median of 3 medians trick fails to achieve a linear time algorithm for quickselect. (**Note** However, as we saw in the lecture, median of 5 medians works to provide $\\Theta(n)$ deterministic selection algorithm or $\\Theta(n \\log(n))$ quicksort that does not depend on randomization in any way)."
   ]
  },
  {
   "cell_type": "markdown",
   "metadata": {
    "deletable": false,
    "nbgrader": {
     "checksum": "0565dac1fed9be779e84506551ef6d79",
     "grade": true,
     "grade_id": "cell-d3ef115f191421d9",
     "locked": false,
     "points": 10,
     "schema_version": 1,
     "solution": true
    }
   },
   "source": [
    "To apply the Akra-Bazzi method, we need to map the recurrence relation of the quickselect algorithm with the median of 3 medians trick into the form suitable for the method. The original recurrence is:\n",
    "\n",
    "$T(n)$ = $O(n)$ + $T(\\frac{n}{3})$ + $T(\\frac{2n}{3})$\n",
    "\n",
    "To apply Akra-Bazzi, we introduce parameters that define the size reduction at each step. Let's define:\n",
    "\n",
    "- α = 1/3 (since one part is of size n/3).\n",
    "- β = 2/3 (since the other part is of size 2n/3).\n",
    "\n",
    "The recurrence relation now becomes:\n",
    "\n",
    "$T(n) = T(αn) + T(βn) + O(n)$\n",
    "\n",
    "We can now apply Akra-Bazzi's theorem. It states that if the sum of the fractions of the recursive terms in the recurrence relation sum up to less than 1 and the function $g(n)$ = $Θ(n^c)$ for some $c > 0$, then the solution to the recurrence is $T(n) = Θ(g(n))$.\n",
    "\n",
    "In our case, we have α + β = 1/3 + 2/3 = 1, which satisfies the condition. Now, we have $g(n)$ = $Θ(n^1)$.\n",
    "\n",
    "Thus, Akra-Bazzi's theorem implies that the solution to the recurrence $T(n) = T(αn) + T(βn) + O(n)$ should be $T(n) = Θ(n^1 log(n))$.\n",
    "\n",
    "This shows that the median of 3 medians trick fails to achieve a linear time algorithm for quickselect. However, as mentioned, the median of 5 medians works to provide a linear-time deterministic selection algorithm."
   ]
  },
  {
   "cell_type": "markdown",
   "metadata": {
    "deletable": false,
    "editable": false,
    "nbgrader": {
     "checksum": "9dee874f33e77c51b0f5f520a6f06d74",
     "grade": false,
     "grade_id": "cell-82b69a9b275bc571",
     "locked": true,
     "schema_version": 1,
     "solution": false
    }
   },
   "source": [
    "---\n",
    "\n",
    "## Question 4: Detective Work on Pre-Order Traversal of a BST\n",
    "\n",
    "\n",
    " An BST with integer keys in each node is traversed using pre-order traversal and the keys in each node are presented in the order\n",
    "they are visited as an array $a$ of $n$ elements -- $a: [a[1], \\ldots, a[n]]$. Assume that the elements of this array are all distinct."
   ]
  },
  {
   "cell_type": "markdown",
   "metadata": {
    "deletable": false,
    "editable": false,
    "nbgrader": {
     "checksum": "4bcde34c8f42a69a888200e83f75f005",
     "grade": false,
     "grade_id": "cell-0e7a2a8bec29c68a",
     "locked": true,
     "schema_version": 1,
     "solution": false
    }
   },
   "source": [
    "\n",
    "\n",
    " __4(a)__ Describe an algorithm to reconstruct the tree in pseudocode. What is the complexity of your algorithm? \n",
    " \n",
    " **Hint:** First identify the root of the tree. Next, how do we identify which elements of the array belong to the left subtree of the root, and which elements to the right subtree? Once that is done, can you recursively perform the reconstruction.\n",
    "\n",
    " Note that you will learn how to build trees properly in your CSPB 2270 class. Here, assume a pseudocode function called `build_tree(n, T1, T2)` that build a tree with root node n and subtrees T1, T2 and returns it.\n",
    "\n"
   ]
  },
  {
   "cell_type": "markdown",
   "metadata": {
    "deletable": false,
    "nbgrader": {
     "checksum": "0bd04cad356efae0bef0cf082303eac5",
     "grade": true,
     "grade_id": "cell-eea75f81136de1cd",
     "locked": false,
     "points": 15,
     "schema_version": 1,
     "solution": true
    }
   },
   "source": [
    "---\n",
    "Identify the root of the tree from the first element of the pre-order traversal array.\n",
    "\n",
    "Partition the array into two parts: elements smaller than the root will belong to the left subtree, and elements greater than the root will belong to the right subtree.\n",
    "\n",
    "Recursively construct the left and right subtrees.\n",
    "\n",
    "Return the root node with its left and right subtrees.\n",
    "\n",
    "At each step, we divide the array into two parts, so the time complexity can be expressed as O(nlog⁡n), where n is the number of elements in the pre-order traversal array.\n",
    "\n",
    "function reconstructBST(preorderArray):\n",
    "    if preorderArray is empty:\n",
    "        return null\n",
    "    \n",
    "    // The first element of the array is the root of the current subtree\n",
    "    root = preorderArray[0]\n",
    "    \n",
    "    // Initialize arrays to hold elements for left and right subtrees\n",
    "    leftSubtree = []\n",
    "    rightSubtree = []\n",
    "    \n",
    "    // Partition the array into left and right subtrees\n",
    "    for each element in preorderArray starting from index 1:\n",
    "        if element < root:\n",
    "            append element to leftSubtree\n",
    "        else:\n",
    "            append element to rightSubtree\n",
    "    \n",
    "    // Recursively construct left and right subtrees\n",
    "    leftChild = reconstructBST(leftSubtree)\n",
    "    rightChild = reconstructBST(rightSubtree)\n",
    "    \n",
    "    // Build the current tree node with left and right subtrees\n",
    "    currentRoot = build_tree(root, leftChild, rightChild)\n",
    "    \n",
    "    return currentRoot"
   ]
  },
  {
   "cell_type": "markdown",
   "metadata": {
    "deletable": false,
    "editable": false,
    "nbgrader": {
     "checksum": "0a510ab7b91f4da740a1ffbc50bfc2c5",
     "grade": false,
     "grade_id": "cell-f2f0c7b193b4a42e",
     "locked": true,
     "schema_version": 1,
     "solution": false
    }
   },
   "source": [
    "\n",
    " __4(b)__ Describe an algorithm that converts the array obtained using the pre-order traversal of a BST into an array representing the post-order traversal without reconstructing the tree. **Hint:** Use the previous part but now instead of reconstructing the tree, think of how pre and post order traversals differ."
   ]
  },
  {
   "cell_type": "markdown",
   "metadata": {
    "deletable": false,
    "nbgrader": {
     "checksum": "183dd9f6c103591df6f909fdaf5ab80a",
     "grade": true,
     "grade_id": "cell-e9b84a8c3b425b2a",
     "locked": false,
     "points": 15,
     "schema_version": 1,
     "solution": true
    }
   },
   "source": [
    "In pre-order traversal, the root node is visited before its children, while in post-order traversal, the root node is visited after its children.\n",
    "\n",
    "    Find the root of the tree from the first element of the pre-order traversal array.\n",
    "    Partition the array into two parts: elements smaller than the root will belong to the left subtree, and elements greater than the root will belong to the right subtree.\n",
    "    Recursively process the left and right subtrees to obtain their post-order traversal arrays.\n",
    "    Concatenate the post-order traversal arrays of the left and right subtrees.\n",
    "    Append the root node to the concatenated post-order traversal array.\n",
    "    Return the concatenated post-order traversal array.\n",
    "    \n",
    "The time complexity of this algorithm is also O(nlog⁡n), where n is the number of elements in the pre-order traversal array.\n",
    "\n",
    "function preToPost(preorderArray):\n",
    "    if preorderArray is empty:\n",
    "        return []\n",
    "\n",
    "    // The first element of the array is the root of the current subtree\n",
    "    root = preorderArray[0]\n",
    "\n",
    "    // Initialize arrays to hold elements for left and right subtrees\n",
    "    leftSubtree = []\n",
    "    rightSubtree = []\n",
    "\n",
    "    // Partition the array into left and right subtrees\n",
    "    for each element in preorderArray starting from index 1:\n",
    "        if element < root:\n",
    "            append element to leftSubtree\n",
    "        else:\n",
    "            append element to rightSubtree\n",
    "\n",
    "    // Recursively obtain post-order traversal arrays for left and right subtrees\n",
    "    leftPostOrder = preToPost(leftSubtree)\n",
    "    rightPostOrder = preToPost(rightSubtree)\n",
    "\n",
    "    // Concatenate the post-order traversal arrays of left and right subtrees\n",
    "    postOrder = concatenate(leftPostOrder, rightPostOrder)\n",
    "\n",
    "    // Append the root node to the concatenated post-order traversal array\n",
    "    append root to postOrder\n",
    "\n",
    "    return postOrder"
   ]
  },
  {
   "cell_type": "markdown",
   "metadata": {
    "deletable": false,
    "editable": false,
    "nbgrader": {
     "checksum": "2ef385587fe8ab0ff5a10fdd7112e9d5",
     "grade": false,
     "grade_id": "cell-2aca70a42a7c6559",
     "locked": true,
     "schema_version": 1,
     "solution": false
    }
   },
   "source": [
    "## Testing your solutions -- Do not edit code beyond this point"
   ]
  },
  {
   "cell_type": "code",
   "execution_count": 4,
   "metadata": {
    "deletable": false,
    "editable": false,
    "nbgrader": {
     "checksum": "b0eb55ccce4c3b469caff6c156319267",
     "grade": true,
     "grade_id": "cell-0daf295a92acfcd1",
     "locked": true,
     "points": 20,
     "schema_version": 1,
     "solution": false
    }
   },
   "outputs": [
    {
     "name": "stdout",
     "output_type": "stream",
     "text": [
      "Num Tests =  10000  Passed =  10000\n"
     ]
    }
   ],
   "source": [
    "import random\n",
    "\n",
    "def unequalArrays(a, b):\n",
    "    n = min(len(a), len(b))\n",
    "    for j in range(n):\n",
    "        if a[j] != b[j]:\n",
    "            return True\n",
    "    if len(a) != len(b):\n",
    "        return True\n",
    "    return False\n",
    "\n",
    "def test_move_negatives(a):\n",
    "    b = [e for e in a if e < 0]\n",
    "    j0 = len(b)\n",
    "    j = move_negatives_to_left(a)\n",
    "    res = True\n",
    "    if j != j0:\n",
    "        print('Failed: input =', a)\n",
    "        print('Failed: expected value j = ', j0, ' Your code obtained j = ', j)\n",
    "        res = False\n",
    "    if unequalArrays(b, a[0:j]):\n",
    "        if res:\n",
    "            print('Failed: input =', a)\n",
    "        print('Failed: the LHS portion should be = ', b)\n",
    "        print('\\t Your code returned: ', a[0:j])\n",
    "        res = False\n",
    "    return res\n",
    "\n",
    "def createRandomArray(n):\n",
    "    a = []\n",
    "    for i in range(n):\n",
    "        j = random.randint(-1000,1000)\n",
    "        if j == 0: \n",
    "            j = 1\n",
    "        a.append(j)\n",
    "    return a\n",
    "\n",
    "nPassed = 0\n",
    "nTests = 10000\n",
    "for i in range(0, nTests):\n",
    "    a = createRandomArray(9)\n",
    "    res = test_move_negatives(a)\n",
    "    if res: \n",
    "        nPassed = nPassed + 1\n",
    "print('Num Tests = ', nTests, ' Passed = ', nPassed)"
   ]
  },
  {
   "cell_type": "code",
   "execution_count": null,
   "metadata": {},
   "outputs": [],
   "source": []
  }
 ],
 "metadata": {
  "kernelspec": {
   "display_name": "Python 3 (ipykernel)",
   "language": "python",
   "name": "python3"
  },
  "language_info": {
   "codemirror_mode": {
    "name": "ipython",
    "version": 3
   },
   "file_extension": ".py",
   "mimetype": "text/x-python",
   "name": "python",
   "nbconvert_exporter": "python",
   "pygments_lexer": "ipython3",
   "version": "3.10.8"
  }
 },
 "nbformat": 4,
 "nbformat_minor": 4
}
